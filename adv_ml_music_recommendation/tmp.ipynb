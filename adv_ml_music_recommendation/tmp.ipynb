{
 "cells": [
  {
   "cell_type": "code",
   "execution_count": 1,
   "id": "initial_id",
   "metadata": {
    "collapsed": true,
    "ExecuteTime": {
     "end_time": "2025-01-22T18:16:14.240932Z",
     "start_time": "2025-01-22T18:16:14.012626Z"
    }
   },
   "outputs": [],
   "source": [
    "import pandas as pd"
   ]
  },
  {
   "cell_type": "code",
   "outputs": [],
   "source": [
    "df_associate = pd.read_csv(\"../data/track_playlist_association.csv\")\n",
    "df = pd.read_csv(\"../data/matched_songs.csv\")"
   ],
   "metadata": {
    "collapsed": false,
    "ExecuteTime": {
     "end_time": "2025-01-22T18:16:16.209985Z",
     "start_time": "2025-01-22T18:16:14.242021Z"
    }
   },
   "id": "466b0ca498627f04",
   "execution_count": 2
  },
  {
   "cell_type": "code",
   "outputs": [
    {
     "data": {
      "text/plain": "   Unnamed: 0  pos        artist_name                             track_uri  \\\n0           0    1     Britney Spears  spotify:track:6I9VzXrHxO9rA9A5euc8Ak   \n1           0    3  Justin Timberlake  spotify:track:1AWQoqb9bSvzTjaLralEkT   \n2           0    8    Destiny's Child  spotify:track:7H6ev70Weq6DdpZyyTmUXk   \n3           0    9            OutKast  spotify:track:2PpruBYCo4H7WOBJ7Q2EwM   \n4           0   19    Destiny's Child  spotify:track:4pmc2AxSEq6g7hPVlJCPyP   \n\n                              artist_uri                      track_name  \\\n0  spotify:artist:26dSoYclwsYLMAKD3tpOr4                           Toxic   \n1  spotify:artist:31TPClRtHm23RisEBtV3X7                  Rock Your Body   \n2  spotify:artist:1Y8cdNmUJH7yBTd9yOvr5i                     Say My Name   \n3  spotify:artist:1G9G7WwrXka3Z1r7aIDjI7  Hey Ya! - Radio Mix / Club Mix   \n4  spotify:artist:1Y8cdNmUJH7yBTd9yOvr5i                Jumpin', Jumpin'   \n\n                              album_uri  duration_ms_x  \\\n0  spotify:album:0z7pVBGOD7HCIB7S8eLkLI         198800   \n1  spotify:album:6QPkyl04rXwTGlGlcYaRoW         267266   \n2  spotify:album:283NWqNsCA9GwVHrJk59CG         271333   \n3  spotify:album:1UsmQ3bpJTyK6ygoOOjG1r         235213   \n4  spotify:album:283NWqNsCA9GwVHrJk59CG         230200   \n\n                    album_name                      id  ... speechiness  \\\n0                  In The Zone  6I9VzXrHxO9rA9A5euc8Ak  ...      0.1140   \n1                    Justified  1AWQoqb9bSvzTjaLralEkT  ...      0.1400   \n2    The Writing's On The Wall  7H6ev70Weq6DdpZyyTmUXk  ...      0.1020   \n3  Speakerboxxx/The Love Below  2PpruBYCo4H7WOBJ7Q2EwM  ...      0.0664   \n4    The Writing's On The Wall  4pmc2AxSEq6g7hPVlJCPyP  ...      0.0567   \n\n  acousticness instrumentalness liveness valence    tempo  duration_ms_y  \\\n0      0.02490         0.025000   0.2420   0.924  143.040         198800   \n1      0.20200         0.000234   0.0521   0.818  100.972         267267   \n2      0.27300         0.000000   0.1490   0.734  138.009         271333   \n3      0.10300         0.000532   0.1740   0.965   79.526         235213   \n4      0.00543         0.001570   0.0537   0.683   88.997         230200   \n\n   time_signature  year  release_date  \n0             4.0  2003    2003-11-13  \n1             4.0  2002    2002-11-04  \n2             4.0  1999    1999-07-27  \n3             4.0  2003          2003  \n4             4.0  1999    1999-07-27  \n\n[5 rows x 33 columns]",
      "text/html": "<div>\n<style scoped>\n    .dataframe tbody tr th:only-of-type {\n        vertical-align: middle;\n    }\n\n    .dataframe tbody tr th {\n        vertical-align: top;\n    }\n\n    .dataframe thead th {\n        text-align: right;\n    }\n</style>\n<table border=\"1\" class=\"dataframe\">\n  <thead>\n    <tr style=\"text-align: right;\">\n      <th></th>\n      <th>Unnamed: 0</th>\n      <th>pos</th>\n      <th>artist_name</th>\n      <th>track_uri</th>\n      <th>artist_uri</th>\n      <th>track_name</th>\n      <th>album_uri</th>\n      <th>duration_ms_x</th>\n      <th>album_name</th>\n      <th>id</th>\n      <th>...</th>\n      <th>speechiness</th>\n      <th>acousticness</th>\n      <th>instrumentalness</th>\n      <th>liveness</th>\n      <th>valence</th>\n      <th>tempo</th>\n      <th>duration_ms_y</th>\n      <th>time_signature</th>\n      <th>year</th>\n      <th>release_date</th>\n    </tr>\n  </thead>\n  <tbody>\n    <tr>\n      <th>0</th>\n      <td>0</td>\n      <td>1</td>\n      <td>Britney Spears</td>\n      <td>spotify:track:6I9VzXrHxO9rA9A5euc8Ak</td>\n      <td>spotify:artist:26dSoYclwsYLMAKD3tpOr4</td>\n      <td>Toxic</td>\n      <td>spotify:album:0z7pVBGOD7HCIB7S8eLkLI</td>\n      <td>198800</td>\n      <td>In The Zone</td>\n      <td>6I9VzXrHxO9rA9A5euc8Ak</td>\n      <td>...</td>\n      <td>0.1140</td>\n      <td>0.02490</td>\n      <td>0.025000</td>\n      <td>0.2420</td>\n      <td>0.924</td>\n      <td>143.040</td>\n      <td>198800</td>\n      <td>4.0</td>\n      <td>2003</td>\n      <td>2003-11-13</td>\n    </tr>\n    <tr>\n      <th>1</th>\n      <td>0</td>\n      <td>3</td>\n      <td>Justin Timberlake</td>\n      <td>spotify:track:1AWQoqb9bSvzTjaLralEkT</td>\n      <td>spotify:artist:31TPClRtHm23RisEBtV3X7</td>\n      <td>Rock Your Body</td>\n      <td>spotify:album:6QPkyl04rXwTGlGlcYaRoW</td>\n      <td>267266</td>\n      <td>Justified</td>\n      <td>1AWQoqb9bSvzTjaLralEkT</td>\n      <td>...</td>\n      <td>0.1400</td>\n      <td>0.20200</td>\n      <td>0.000234</td>\n      <td>0.0521</td>\n      <td>0.818</td>\n      <td>100.972</td>\n      <td>267267</td>\n      <td>4.0</td>\n      <td>2002</td>\n      <td>2002-11-04</td>\n    </tr>\n    <tr>\n      <th>2</th>\n      <td>0</td>\n      <td>8</td>\n      <td>Destiny's Child</td>\n      <td>spotify:track:7H6ev70Weq6DdpZyyTmUXk</td>\n      <td>spotify:artist:1Y8cdNmUJH7yBTd9yOvr5i</td>\n      <td>Say My Name</td>\n      <td>spotify:album:283NWqNsCA9GwVHrJk59CG</td>\n      <td>271333</td>\n      <td>The Writing's On The Wall</td>\n      <td>7H6ev70Weq6DdpZyyTmUXk</td>\n      <td>...</td>\n      <td>0.1020</td>\n      <td>0.27300</td>\n      <td>0.000000</td>\n      <td>0.1490</td>\n      <td>0.734</td>\n      <td>138.009</td>\n      <td>271333</td>\n      <td>4.0</td>\n      <td>1999</td>\n      <td>1999-07-27</td>\n    </tr>\n    <tr>\n      <th>3</th>\n      <td>0</td>\n      <td>9</td>\n      <td>OutKast</td>\n      <td>spotify:track:2PpruBYCo4H7WOBJ7Q2EwM</td>\n      <td>spotify:artist:1G9G7WwrXka3Z1r7aIDjI7</td>\n      <td>Hey Ya! - Radio Mix / Club Mix</td>\n      <td>spotify:album:1UsmQ3bpJTyK6ygoOOjG1r</td>\n      <td>235213</td>\n      <td>Speakerboxxx/The Love Below</td>\n      <td>2PpruBYCo4H7WOBJ7Q2EwM</td>\n      <td>...</td>\n      <td>0.0664</td>\n      <td>0.10300</td>\n      <td>0.000532</td>\n      <td>0.1740</td>\n      <td>0.965</td>\n      <td>79.526</td>\n      <td>235213</td>\n      <td>4.0</td>\n      <td>2003</td>\n      <td>2003</td>\n    </tr>\n    <tr>\n      <th>4</th>\n      <td>0</td>\n      <td>19</td>\n      <td>Destiny's Child</td>\n      <td>spotify:track:4pmc2AxSEq6g7hPVlJCPyP</td>\n      <td>spotify:artist:1Y8cdNmUJH7yBTd9yOvr5i</td>\n      <td>Jumpin', Jumpin'</td>\n      <td>spotify:album:283NWqNsCA9GwVHrJk59CG</td>\n      <td>230200</td>\n      <td>The Writing's On The Wall</td>\n      <td>4pmc2AxSEq6g7hPVlJCPyP</td>\n      <td>...</td>\n      <td>0.0567</td>\n      <td>0.00543</td>\n      <td>0.001570</td>\n      <td>0.0537</td>\n      <td>0.683</td>\n      <td>88.997</td>\n      <td>230200</td>\n      <td>4.0</td>\n      <td>1999</td>\n      <td>1999-07-27</td>\n    </tr>\n  </tbody>\n</table>\n<p>5 rows × 33 columns</p>\n</div>"
     },
     "execution_count": 3,
     "metadata": {},
     "output_type": "execute_result"
    }
   ],
   "source": [
    "df.head()"
   ],
   "metadata": {
    "collapsed": false,
    "ExecuteTime": {
     "end_time": "2025-01-22T18:16:16.222171Z",
     "start_time": "2025-01-22T18:16:16.210959Z"
    }
   },
   "id": "e538dbf1f20739f6",
   "execution_count": 3
  },
  {
   "cell_type": "code",
   "outputs": [
    {
     "name": "stdout",
     "output_type": "stream",
     "text": [
      "                                    track_uri  playlist_id\n",
      "0        spotify:track:6I9VzXrHxO9rA9A5euc8Ak            0\n",
      "1        spotify:track:6I9VzXrHxO9rA9A5euc8Ak       884736\n",
      "2        spotify:track:6I9VzXrHxO9rA9A5euc8Ak       884738\n",
      "3        spotify:track:6I9VzXrHxO9rA9A5euc8Ak        32775\n",
      "4        spotify:track:6I9VzXrHxO9rA9A5euc8Ak        32777\n",
      "...                                       ...          ...\n",
      "8171516  spotify:track:38Zq6XbsyIcwI0Kn1ikPlV       999829\n",
      "8171517  spotify:track:68nYzKdsOUiiVAuyAc5y3U       999829\n",
      "8171518  spotify:track:2U7FCJK3m012zjvPlAw4PK       999870\n",
      "8171519  spotify:track:1HkPxeUaQwIFIbYCRq9nyK       999887\n",
      "8171520  spotify:track:533lw7eUjXE5ZbajU8L4H6       999935\n",
      "\n",
      "[8171521 rows x 2 columns]\n"
     ]
    }
   ],
   "source": [
    "df_associate\n",
    "print(df_associate)"
   ],
   "metadata": {
    "collapsed": false,
    "ExecuteTime": {
     "end_time": "2025-01-22T18:16:16.226063Z",
     "start_time": "2025-01-22T18:16:16.223160Z"
    }
   },
   "id": "18ca03559fa6c359",
   "execution_count": 4
  },
  {
   "cell_type": "code",
   "outputs": [],
   "source": [
    "def get_tracks_by_playlist(df, playlist_id):\n",
    "    \"\"\"\n",
    "    Retrieve all track URIs associated with a specific playlist ID.\n",
    "    \n",
    "    Parameters:\n",
    "        df (pd.DataFrame): The DataFrame containing 'track_uri' and 'playlist_id'.\n",
    "        playlist_id (int): The ID of the playlist to filter tracks for.\n",
    "    \n",
    "    Returns:\n",
    "        list: A list of track URIs associated with the given playlist ID.\n",
    "    \"\"\"\n",
    "    # Filter the DataFrame and retrieve the track URIs\n",
    "    return df[df['playlist_id'] == playlist_id]['track_uri']"
   ],
   "metadata": {
    "collapsed": false,
    "ExecuteTime": {
     "end_time": "2025-01-22T18:16:16.234181Z",
     "start_time": "2025-01-22T18:16:16.227279Z"
    }
   },
   "id": "261cb0a7315d9b9f",
   "execution_count": 5
  },
  {
   "cell_type": "code",
   "outputs": [],
   "source": [
    "def get_number_of_playlists(df):\n",
    "    return df['playlist_id'].nunique()\n",
    "def get_number_of_songs_in_playlist(df: pd.DataFrame, playlist_id: int) -> int:\n",
    "    \"\"\"\n",
    "    Get the number of songs in a specific playlist.\n",
    "\n",
    "    :param df: The DataFrame containing 'track_uri' and 'playlist_id'.\n",
    "    :param playlist_id: The playlist ID to count songs for.\n",
    "    :return: The number of songs in the playlist.\n",
    "    \"\"\"\n",
    "    return df[df['playlist_id'] == playlist_id].shape[0]"
   ],
   "metadata": {
    "collapsed": false,
    "ExecuteTime": {
     "end_time": "2025-01-22T18:16:16.243028Z",
     "start_time": "2025-01-22T18:16:16.235074Z"
    }
   },
   "id": "a87d9a9eccbe1204",
   "execution_count": 6
  },
  {
   "cell_type": "code",
   "outputs": [
    {
     "name": "stdout",
     "output_type": "stream",
     "text": [
      "887060\n"
     ]
    }
   ],
   "source": [
    "df_sorted = df_associate.sort_values(by='playlist_id', ascending=True)\n",
    "\n",
    "print(get_number_of_playlists(df_associate))"
   ],
   "metadata": {
    "collapsed": false,
    "ExecuteTime": {
     "end_time": "2025-01-22T18:16:17.452971Z",
     "start_time": "2025-01-22T18:16:16.243963Z"
    }
   },
   "id": "c950849a0abbc5d7",
   "execution_count": 7
  },
  {
   "cell_type": "code",
   "outputs": [
    {
     "name": "stdout",
     "output_type": "stream",
     "text": [
      "0        spotify:track:6I9VzXrHxO9rA9A5euc8Ak\n",
      "12951    spotify:track:1AWQoqb9bSvzTjaLralEkT\n",
      "21938    spotify:track:7H6ev70Weq6DdpZyyTmUXk\n",
      "35384    spotify:track:2PpruBYCo4H7WOBJ7Q2EwM\n",
      "56628    spotify:track:4pmc2AxSEq6g7hPVlJCPyP\n",
      "63151    spotify:track:19Js5ypV6JKn4DMExHQbGc\n",
      "Name: track_uri, dtype: object\n",
      "6\n"
     ]
    }
   ],
   "source": [
    "print(get_tracks_by_playlist(df_associate, 0))\n",
    "print(get_number_of_songs_in_playlist(df_associate, 0))"
   ],
   "metadata": {
    "collapsed": false,
    "ExecuteTime": {
     "end_time": "2025-01-22T18:16:17.462828Z",
     "start_time": "2025-01-22T18:16:17.454053Z"
    }
   },
   "id": "aee742d53018bccd",
   "execution_count": 8
  },
  {
   "cell_type": "markdown",
   "source": [],
   "metadata": {
    "collapsed": false
   },
   "id": "da851b37128acbc9"
  },
  {
   "cell_type": "code",
   "outputs": [],
   "source": [
    "def get_tracks_by_playlist(df_playlist: pd.DataFrame, df_tracks: pd.DataFrame, playlist_id: int) -> pd.DataFrame:\n",
    "    \"\"\"\n",
    "    Get detailed track information for a specific playlist ID.\n",
    "\n",
    "    :param df_playlist: DataFrame containing 'track_uri' and 'playlist_id'.\n",
    "    :param df_tracks: DataFrame containing detailed track information.\n",
    "    :param playlist_id: The playlist ID to filter tracks for.\n",
    "    :return: A DataFrame with detailed track information for the playlist.\n",
    "    \"\"\"\n",
    "    # Filter the playlist DataFrame for the specified playlist ID\n",
    "    filtered_playlist = df_playlist[df_playlist['playlist_id'] == playlist_id]\n",
    "\n",
    "    # Merge with the track information DataFrame on 'track_uri'\n",
    "    return filtered_playlist.merge(df_tracks, on='track_uri', how='inner')"
   ],
   "metadata": {
    "collapsed": false,
    "ExecuteTime": {
     "end_time": "2025-01-22T18:16:17.467622Z",
     "start_time": "2025-01-22T18:16:17.463607Z"
    }
   },
   "id": "bf2dfdaae5327403",
   "execution_count": 9
  },
  {
   "cell_type": "code",
   "outputs": [
    {
     "data": {
      "text/plain": "                              track_uri  playlist_id  Unnamed: 0  pos  \\\n0  spotify:track:73szhI6oOawKlv6AxgHIS8            2           2   37   \n1  spotify:track:7uzib3dSSwgUwcD3z0k3bR            2           2   38   \n2  spotify:track:1Zyd6zQnC6XIIzmg3hP7Ot            2           2   40   \n\n  artist_name                             artist_uri            track_name  \\\n0     BIGBANG  spotify:artist:4Kxlr1PRlDKEB0ekOCyHgX            LAST DANCE   \n1     BIGBANG  spotify:artist:4Kxlr1PRlDKEB0ekOCyHgX               FXXK IT   \n2   BLACKPINK  spotify:artist:41MozSoPIsD1dJM0CLPjZF  As If It's Your Last   \n\n                              album_uri  duration_ms_x            album_name  \\\n0  spotify:album:1q8h2HdED1cmgJVo8lEBME         279719                  MADE   \n1  spotify:album:1q8h2HdED1cmgJVo8lEBME         231810                  MADE   \n2  spotify:album:6IzQb2kLydYNfzmKXvmndX         213264  As If It's Your Last   \n\n   ... speechiness acousticness instrumentalness liveness valence    tempo  \\\n0  ...      0.0606       0.4670              0.0   0.3230   0.289  143.889   \n1  ...      0.1070       0.1520              0.0   0.2760   0.587   90.026   \n2  ...      0.0816       0.0688              0.0   0.0759   0.450  125.034   \n\n   duration_ms_y  time_signature  year  release_date  \n0         279719             4.0  2016    2016-12-13  \n1         231811             4.0  2016    2016-12-13  \n2         213264             4.0  2017    2017-06-22  \n\n[3 rows x 34 columns]",
      "text/html": "<div>\n<style scoped>\n    .dataframe tbody tr th:only-of-type {\n        vertical-align: middle;\n    }\n\n    .dataframe tbody tr th {\n        vertical-align: top;\n    }\n\n    .dataframe thead th {\n        text-align: right;\n    }\n</style>\n<table border=\"1\" class=\"dataframe\">\n  <thead>\n    <tr style=\"text-align: right;\">\n      <th></th>\n      <th>track_uri</th>\n      <th>playlist_id</th>\n      <th>Unnamed: 0</th>\n      <th>pos</th>\n      <th>artist_name</th>\n      <th>artist_uri</th>\n      <th>track_name</th>\n      <th>album_uri</th>\n      <th>duration_ms_x</th>\n      <th>album_name</th>\n      <th>...</th>\n      <th>speechiness</th>\n      <th>acousticness</th>\n      <th>instrumentalness</th>\n      <th>liveness</th>\n      <th>valence</th>\n      <th>tempo</th>\n      <th>duration_ms_y</th>\n      <th>time_signature</th>\n      <th>year</th>\n      <th>release_date</th>\n    </tr>\n  </thead>\n  <tbody>\n    <tr>\n      <th>0</th>\n      <td>spotify:track:73szhI6oOawKlv6AxgHIS8</td>\n      <td>2</td>\n      <td>2</td>\n      <td>37</td>\n      <td>BIGBANG</td>\n      <td>spotify:artist:4Kxlr1PRlDKEB0ekOCyHgX</td>\n      <td>LAST DANCE</td>\n      <td>spotify:album:1q8h2HdED1cmgJVo8lEBME</td>\n      <td>279719</td>\n      <td>MADE</td>\n      <td>...</td>\n      <td>0.0606</td>\n      <td>0.4670</td>\n      <td>0.0</td>\n      <td>0.3230</td>\n      <td>0.289</td>\n      <td>143.889</td>\n      <td>279719</td>\n      <td>4.0</td>\n      <td>2016</td>\n      <td>2016-12-13</td>\n    </tr>\n    <tr>\n      <th>1</th>\n      <td>spotify:track:7uzib3dSSwgUwcD3z0k3bR</td>\n      <td>2</td>\n      <td>2</td>\n      <td>38</td>\n      <td>BIGBANG</td>\n      <td>spotify:artist:4Kxlr1PRlDKEB0ekOCyHgX</td>\n      <td>FXXK IT</td>\n      <td>spotify:album:1q8h2HdED1cmgJVo8lEBME</td>\n      <td>231810</td>\n      <td>MADE</td>\n      <td>...</td>\n      <td>0.1070</td>\n      <td>0.1520</td>\n      <td>0.0</td>\n      <td>0.2760</td>\n      <td>0.587</td>\n      <td>90.026</td>\n      <td>231811</td>\n      <td>4.0</td>\n      <td>2016</td>\n      <td>2016-12-13</td>\n    </tr>\n    <tr>\n      <th>2</th>\n      <td>spotify:track:1Zyd6zQnC6XIIzmg3hP7Ot</td>\n      <td>2</td>\n      <td>2</td>\n      <td>40</td>\n      <td>BLACKPINK</td>\n      <td>spotify:artist:41MozSoPIsD1dJM0CLPjZF</td>\n      <td>As If It's Your Last</td>\n      <td>spotify:album:6IzQb2kLydYNfzmKXvmndX</td>\n      <td>213264</td>\n      <td>As If It's Your Last</td>\n      <td>...</td>\n      <td>0.0816</td>\n      <td>0.0688</td>\n      <td>0.0</td>\n      <td>0.0759</td>\n      <td>0.450</td>\n      <td>125.034</td>\n      <td>213264</td>\n      <td>4.0</td>\n      <td>2017</td>\n      <td>2017-06-22</td>\n    </tr>\n  </tbody>\n</table>\n<p>3 rows × 34 columns</p>\n</div>"
     },
     "execution_count": 10,
     "metadata": {},
     "output_type": "execute_result"
    }
   ],
   "source": [
    "get_tracks_by_playlist(df_associate, df, 2)"
   ],
   "metadata": {
    "collapsed": false,
    "ExecuteTime": {
     "end_time": "2025-01-22T18:16:17.508653Z",
     "start_time": "2025-01-22T18:16:17.468426Z"
    }
   },
   "id": "d4164e4d4f2bc249",
   "execution_count": 10
  },
  {
   "cell_type": "code",
   "outputs": [
    {
     "data": {
      "text/plain": "        Unnamed: 0  pos          artist_name  \\\n0                1    0             Survivor   \n1                1    9      Leslie Odom Jr.   \n2                1   10  Christopher Jackson   \n3                1   11      Leslie Odom Jr.   \n4                1   12   Lin-Manuel Miranda   \n...            ...  ...                  ...   \n134701         829   24          The Outlaws   \n134702         829  131          The Outlaws   \n134703         870   69      History Invades   \n134704         887    5            Limi-T 21   \n134705         935   32          Rod Stewart   \n\n                                   track_uri  \\\n0       spotify:track:2HHtWyy5CgaQbC7XSoOb0e   \n1       spotify:track:2TK2KSrzXD6W01qjXVjNGh   \n2       spotify:track:3nJYcY9yvKP8Oi2Ml8brXt   \n3       spotify:track:4TTV7EcfroSLWzXRY6gLv6   \n4       spotify:track:4cxvludVmQxryrnx1m9FqL   \n...                                      ...   \n134701  spotify:track:38Zq6XbsyIcwI0Kn1ikPlV   \n134702  spotify:track:68nYzKdsOUiiVAuyAc5y3U   \n134703  spotify:track:2U7FCJK3m012zjvPlAw4PK   \n134704  spotify:track:1HkPxeUaQwIFIbYCRq9nyK   \n134705  spotify:track:533lw7eUjXE5ZbajU8L4H6   \n\n                                   artist_uri  \\\n0       spotify:artist:26bcq2nyj5GB7uRr558iQg   \n1       spotify:artist:3cR4rhS2hBWqI7rJEBacvN   \n2       spotify:artist:6sLwRSXSUF5JTUnQaFenyj   \n3       spotify:artist:3cR4rhS2hBWqI7rJEBacvN   \n4       spotify:artist:4aXXDj9aZnlshx7mzj3W1N   \n...                                       ...   \n134701  spotify:artist:72JEwd3EjDEwTLypkFYJn9   \n134702  spotify:artist:72JEwd3EjDEwTLypkFYJn9   \n134703  spotify:artist:0uDgv6be8MjRPqZ1v7WiZa   \n134704  spotify:artist:5j8Q0VC4Be4yhcQ1tf8Sh7   \n134705  spotify:artist:2y8Jo9CKhJvtfeKOsYzRdT   \n\n                                               track_name  \\\n0                                        Eye of the Tiger   \n1                               The Room Where It Happens   \n2                                          Right Hand Man   \n3                                      Alexander Hamilton   \n4                                                 My Shot   \n...                                                   ...   \n134701                                       Freedom Walk   \n134702                                         Dirty City   \n134703                              Its All Over (Ending)   \n134704                   Una Despedida (Tropical version)   \n134705  Standin' In the Shadows of Love - 2008 Remaste...   \n\n                                   album_uri  duration_ms_x  \\\n0       spotify:album:4PT9VulQaQP6XR1xBI2x1W         243773   \n1       spotify:album:1kCHru7uhxBUdzkm4gzRQc         318214   \n2       spotify:album:1kCHru7uhxBUdzkm4gzRQc         321696   \n3       spotify:album:1kCHru7uhxBUdzkm4gzRQc         236737   \n4       spotify:album:1kCHru7uhxBUdzkm4gzRQc         333154   \n...                                      ...            ...   \n134701  spotify:album:7IHvSlqB21xW52rQcLez8a         346880   \n134702  spotify:album:7Lu3iMeH7KWrbqnXHfgEgU         327426   \n134703  spotify:album:4774uhbJcNqmK2PDpTKC92         141626   \n134704  spotify:album:3D2qTNwjpvoK1d4t53BjaT         219066   \n134705  spotify:album:38tXOrjXUUfQWWV2DRwMio         268266   \n\n                                album_name                      id  ...  \\\n0                         Eye Of The Tiger  2HHtWyy5CgaQbC7XSoOb0e  ...   \n1                                 Hamilton  2TK2KSrzXD6W01qjXVjNGh  ...   \n2                                 Hamilton  3nJYcY9yvKP8Oi2Ml8brXt  ...   \n3                                 Hamilton  4TTV7EcfroSLWzXRY6gLv6  ...   \n4                                 Hamilton  4cxvludVmQxryrnx1m9FqL  ...   \n...                                    ...                     ...  ...   \n134701                        Ghost Riders  38Zq6XbsyIcwI0Kn1ikPlV  ...   \n134702                      Playin' to Win  68nYzKdsOUiiVAuyAc5y3U  ...   \n134703  The Structure Of A Precise Fashion  2U7FCJK3m012zjvPlAw4PK  ...   \n134704                            Adictivo  1HkPxeUaQwIFIbYCRq9nyK  ...   \n134705               Blondes Have More Fun  533lw7eUjXE5ZbajU8L4H6  ...   \n\n       speechiness acousticness instrumentalness liveness valence    tempo  \\\n0           0.0346      0.21600         0.000466   0.0787   0.552  108.965   \n1           0.4260      0.27100         0.000000   0.6640   0.511  173.552   \n2           0.4920      0.17700         0.000000   0.2050   0.383  158.576   \n3           0.2850      0.52200         0.000000   0.1180   0.552  131.995   \n4           0.4150      0.15000         0.000000   0.0903   0.568  180.466   \n...            ...          ...              ...      ...     ...      ...   \n134701      0.0605      0.06140         0.013900   0.1550   0.693   90.245   \n134702      0.0454      0.00854         0.000313   0.5000   0.884  127.566   \n134703      0.0562      0.00431         0.117000   0.2740   0.192  160.262   \n134704      0.0374      0.27400         0.000141   0.1470   0.926  124.949   \n134705      0.0361      0.02500         0.000483   0.1100   0.825  116.080   \n\n        duration_ms_y  time_signature  year  release_date  \n0              243773             4.0  1982          1982  \n1              318215             4.0  2015    2015-09-25  \n2              321697             4.0  2015    2015-09-25  \n3              236738             4.0  2015    2015-09-25  \n4              333154             4.0  2015    2015-09-25  \n...               ...             ...   ...           ...  \n134701         346880             4.0  1980    1980-09-03  \n134702         327427             4.0  1978          1978  \n134703         141627             4.0  2005    2005-07-19  \n134704         219067             4.0  2010    2010-01-01  \n134705         268267             4.0  1978    1978-11-24  \n\n[134706 rows x 33 columns]",
      "text/html": "<div>\n<style scoped>\n    .dataframe tbody tr th:only-of-type {\n        vertical-align: middle;\n    }\n\n    .dataframe tbody tr th {\n        vertical-align: top;\n    }\n\n    .dataframe thead th {\n        text-align: right;\n    }\n</style>\n<table border=\"1\" class=\"dataframe\">\n  <thead>\n    <tr style=\"text-align: right;\">\n      <th></th>\n      <th>Unnamed: 0</th>\n      <th>pos</th>\n      <th>artist_name</th>\n      <th>track_uri</th>\n      <th>artist_uri</th>\n      <th>track_name</th>\n      <th>album_uri</th>\n      <th>duration_ms_x</th>\n      <th>album_name</th>\n      <th>id</th>\n      <th>...</th>\n      <th>speechiness</th>\n      <th>acousticness</th>\n      <th>instrumentalness</th>\n      <th>liveness</th>\n      <th>valence</th>\n      <th>tempo</th>\n      <th>duration_ms_y</th>\n      <th>time_signature</th>\n      <th>year</th>\n      <th>release_date</th>\n    </tr>\n  </thead>\n  <tbody>\n    <tr>\n      <th>0</th>\n      <td>1</td>\n      <td>0</td>\n      <td>Survivor</td>\n      <td>spotify:track:2HHtWyy5CgaQbC7XSoOb0e</td>\n      <td>spotify:artist:26bcq2nyj5GB7uRr558iQg</td>\n      <td>Eye of the Tiger</td>\n      <td>spotify:album:4PT9VulQaQP6XR1xBI2x1W</td>\n      <td>243773</td>\n      <td>Eye Of The Tiger</td>\n      <td>2HHtWyy5CgaQbC7XSoOb0e</td>\n      <td>...</td>\n      <td>0.0346</td>\n      <td>0.21600</td>\n      <td>0.000466</td>\n      <td>0.0787</td>\n      <td>0.552</td>\n      <td>108.965</td>\n      <td>243773</td>\n      <td>4.0</td>\n      <td>1982</td>\n      <td>1982</td>\n    </tr>\n    <tr>\n      <th>1</th>\n      <td>1</td>\n      <td>9</td>\n      <td>Leslie Odom Jr.</td>\n      <td>spotify:track:2TK2KSrzXD6W01qjXVjNGh</td>\n      <td>spotify:artist:3cR4rhS2hBWqI7rJEBacvN</td>\n      <td>The Room Where It Happens</td>\n      <td>spotify:album:1kCHru7uhxBUdzkm4gzRQc</td>\n      <td>318214</td>\n      <td>Hamilton</td>\n      <td>2TK2KSrzXD6W01qjXVjNGh</td>\n      <td>...</td>\n      <td>0.4260</td>\n      <td>0.27100</td>\n      <td>0.000000</td>\n      <td>0.6640</td>\n      <td>0.511</td>\n      <td>173.552</td>\n      <td>318215</td>\n      <td>4.0</td>\n      <td>2015</td>\n      <td>2015-09-25</td>\n    </tr>\n    <tr>\n      <th>2</th>\n      <td>1</td>\n      <td>10</td>\n      <td>Christopher Jackson</td>\n      <td>spotify:track:3nJYcY9yvKP8Oi2Ml8brXt</td>\n      <td>spotify:artist:6sLwRSXSUF5JTUnQaFenyj</td>\n      <td>Right Hand Man</td>\n      <td>spotify:album:1kCHru7uhxBUdzkm4gzRQc</td>\n      <td>321696</td>\n      <td>Hamilton</td>\n      <td>3nJYcY9yvKP8Oi2Ml8brXt</td>\n      <td>...</td>\n      <td>0.4920</td>\n      <td>0.17700</td>\n      <td>0.000000</td>\n      <td>0.2050</td>\n      <td>0.383</td>\n      <td>158.576</td>\n      <td>321697</td>\n      <td>4.0</td>\n      <td>2015</td>\n      <td>2015-09-25</td>\n    </tr>\n    <tr>\n      <th>3</th>\n      <td>1</td>\n      <td>11</td>\n      <td>Leslie Odom Jr.</td>\n      <td>spotify:track:4TTV7EcfroSLWzXRY6gLv6</td>\n      <td>spotify:artist:3cR4rhS2hBWqI7rJEBacvN</td>\n      <td>Alexander Hamilton</td>\n      <td>spotify:album:1kCHru7uhxBUdzkm4gzRQc</td>\n      <td>236737</td>\n      <td>Hamilton</td>\n      <td>4TTV7EcfroSLWzXRY6gLv6</td>\n      <td>...</td>\n      <td>0.2850</td>\n      <td>0.52200</td>\n      <td>0.000000</td>\n      <td>0.1180</td>\n      <td>0.552</td>\n      <td>131.995</td>\n      <td>236738</td>\n      <td>4.0</td>\n      <td>2015</td>\n      <td>2015-09-25</td>\n    </tr>\n    <tr>\n      <th>4</th>\n      <td>1</td>\n      <td>12</td>\n      <td>Lin-Manuel Miranda</td>\n      <td>spotify:track:4cxvludVmQxryrnx1m9FqL</td>\n      <td>spotify:artist:4aXXDj9aZnlshx7mzj3W1N</td>\n      <td>My Shot</td>\n      <td>spotify:album:1kCHru7uhxBUdzkm4gzRQc</td>\n      <td>333154</td>\n      <td>Hamilton</td>\n      <td>4cxvludVmQxryrnx1m9FqL</td>\n      <td>...</td>\n      <td>0.4150</td>\n      <td>0.15000</td>\n      <td>0.000000</td>\n      <td>0.0903</td>\n      <td>0.568</td>\n      <td>180.466</td>\n      <td>333154</td>\n      <td>4.0</td>\n      <td>2015</td>\n      <td>2015-09-25</td>\n    </tr>\n    <tr>\n      <th>...</th>\n      <td>...</td>\n      <td>...</td>\n      <td>...</td>\n      <td>...</td>\n      <td>...</td>\n      <td>...</td>\n      <td>...</td>\n      <td>...</td>\n      <td>...</td>\n      <td>...</td>\n      <td>...</td>\n      <td>...</td>\n      <td>...</td>\n      <td>...</td>\n      <td>...</td>\n      <td>...</td>\n      <td>...</td>\n      <td>...</td>\n      <td>...</td>\n      <td>...</td>\n      <td>...</td>\n    </tr>\n    <tr>\n      <th>134701</th>\n      <td>829</td>\n      <td>24</td>\n      <td>The Outlaws</td>\n      <td>spotify:track:38Zq6XbsyIcwI0Kn1ikPlV</td>\n      <td>spotify:artist:72JEwd3EjDEwTLypkFYJn9</td>\n      <td>Freedom Walk</td>\n      <td>spotify:album:7IHvSlqB21xW52rQcLez8a</td>\n      <td>346880</td>\n      <td>Ghost Riders</td>\n      <td>38Zq6XbsyIcwI0Kn1ikPlV</td>\n      <td>...</td>\n      <td>0.0605</td>\n      <td>0.06140</td>\n      <td>0.013900</td>\n      <td>0.1550</td>\n      <td>0.693</td>\n      <td>90.245</td>\n      <td>346880</td>\n      <td>4.0</td>\n      <td>1980</td>\n      <td>1980-09-03</td>\n    </tr>\n    <tr>\n      <th>134702</th>\n      <td>829</td>\n      <td>131</td>\n      <td>The Outlaws</td>\n      <td>spotify:track:68nYzKdsOUiiVAuyAc5y3U</td>\n      <td>spotify:artist:72JEwd3EjDEwTLypkFYJn9</td>\n      <td>Dirty City</td>\n      <td>spotify:album:7Lu3iMeH7KWrbqnXHfgEgU</td>\n      <td>327426</td>\n      <td>Playin' to Win</td>\n      <td>68nYzKdsOUiiVAuyAc5y3U</td>\n      <td>...</td>\n      <td>0.0454</td>\n      <td>0.00854</td>\n      <td>0.000313</td>\n      <td>0.5000</td>\n      <td>0.884</td>\n      <td>127.566</td>\n      <td>327427</td>\n      <td>4.0</td>\n      <td>1978</td>\n      <td>1978</td>\n    </tr>\n    <tr>\n      <th>134703</th>\n      <td>870</td>\n      <td>69</td>\n      <td>History Invades</td>\n      <td>spotify:track:2U7FCJK3m012zjvPlAw4PK</td>\n      <td>spotify:artist:0uDgv6be8MjRPqZ1v7WiZa</td>\n      <td>Its All Over (Ending)</td>\n      <td>spotify:album:4774uhbJcNqmK2PDpTKC92</td>\n      <td>141626</td>\n      <td>The Structure Of A Precise Fashion</td>\n      <td>2U7FCJK3m012zjvPlAw4PK</td>\n      <td>...</td>\n      <td>0.0562</td>\n      <td>0.00431</td>\n      <td>0.117000</td>\n      <td>0.2740</td>\n      <td>0.192</td>\n      <td>160.262</td>\n      <td>141627</td>\n      <td>4.0</td>\n      <td>2005</td>\n      <td>2005-07-19</td>\n    </tr>\n    <tr>\n      <th>134704</th>\n      <td>887</td>\n      <td>5</td>\n      <td>Limi-T 21</td>\n      <td>spotify:track:1HkPxeUaQwIFIbYCRq9nyK</td>\n      <td>spotify:artist:5j8Q0VC4Be4yhcQ1tf8Sh7</td>\n      <td>Una Despedida (Tropical version)</td>\n      <td>spotify:album:3D2qTNwjpvoK1d4t53BjaT</td>\n      <td>219066</td>\n      <td>Adictivo</td>\n      <td>1HkPxeUaQwIFIbYCRq9nyK</td>\n      <td>...</td>\n      <td>0.0374</td>\n      <td>0.27400</td>\n      <td>0.000141</td>\n      <td>0.1470</td>\n      <td>0.926</td>\n      <td>124.949</td>\n      <td>219067</td>\n      <td>4.0</td>\n      <td>2010</td>\n      <td>2010-01-01</td>\n    </tr>\n    <tr>\n      <th>134705</th>\n      <td>935</td>\n      <td>32</td>\n      <td>Rod Stewart</td>\n      <td>spotify:track:533lw7eUjXE5ZbajU8L4H6</td>\n      <td>spotify:artist:2y8Jo9CKhJvtfeKOsYzRdT</td>\n      <td>Standin' In the Shadows of Love - 2008 Remaste...</td>\n      <td>spotify:album:38tXOrjXUUfQWWV2DRwMio</td>\n      <td>268266</td>\n      <td>Blondes Have More Fun</td>\n      <td>533lw7eUjXE5ZbajU8L4H6</td>\n      <td>...</td>\n      <td>0.0361</td>\n      <td>0.02500</td>\n      <td>0.000483</td>\n      <td>0.1100</td>\n      <td>0.825</td>\n      <td>116.080</td>\n      <td>268267</td>\n      <td>4.0</td>\n      <td>1978</td>\n      <td>1978-11-24</td>\n    </tr>\n  </tbody>\n</table>\n<p>134706 rows × 33 columns</p>\n</div>"
     },
     "execution_count": 11,
     "metadata": {},
     "output_type": "execute_result"
    }
   ],
   "source": [
    "from adv_ml_music_recommendation.util.data_functions import get_interacted_tracks\n",
    "\n",
    "# Get interacted and non-interacted tracks for playlist ID 0\n",
    "tracks_interacted, tracks_not_interacted = get_interacted_tracks(df_associate, df, 0)\n",
    "tracks_not_interacted\n"
   ],
   "metadata": {
    "collapsed": false,
    "ExecuteTime": {
     "end_time": "2025-01-22T18:16:17.673665Z",
     "start_time": "2025-01-22T18:16:17.509619Z"
    }
   },
   "id": "a44ebe34f6172e",
   "execution_count": 11
  },
  {
   "cell_type": "code",
   "outputs": [
    {
     "data": {
      "text/plain": "<887060x134712 sparse array of type '<class 'numpy.float64'>'\n\twith 8171521 stored elements in Compressed Sparse Row format>"
     },
     "execution_count": 12,
     "metadata": {},
     "output_type": "execute_result"
    }
   ],
   "source": [
    "from adv_ml_music_recommendation.util.data_functions import create_interaction_matrix, create_sparse_interaction_matrix\n",
    "\n",
    "df_a = create_sparse_interaction_matrix(df_associate, df)\n",
    "df_a"
   ],
   "metadata": {
    "collapsed": false,
    "ExecuteTime": {
     "end_time": "2025-01-22T18:16:19.792061Z",
     "start_time": "2025-01-22T18:16:17.674751Z"
    }
   },
   "id": "f1cbcdd0abb96e1a",
   "execution_count": 12
  },
  {
   "cell_type": "code",
   "outputs": [
    {
     "name": "stdout",
     "output_type": "stream",
     "text": [
      "887060\n",
      "134712\n"
     ]
    }
   ],
   "source": [
    "print(get_number_of_playlists(df_associate))\n",
    "print(len(df))"
   ],
   "metadata": {
    "collapsed": false,
    "ExecuteTime": {
     "end_time": "2025-01-22T18:16:19.850261Z",
     "start_time": "2025-01-22T18:16:19.793242Z"
    }
   },
   "id": "eba2f58464c8bb85",
   "execution_count": 13
  },
  {
   "cell_type": "code",
   "outputs": [
    {
     "name": "stdout",
     "output_type": "stream",
     "text": [
      "(887060, 134712)\n"
     ]
    }
   ],
   "source": [
    "print(df_a.shape)  # Prints the dimensions of the sparse matrix"
   ],
   "metadata": {
    "collapsed": false,
    "ExecuteTime": {
     "end_time": "2025-01-22T18:16:19.854786Z",
     "start_time": "2025-01-22T18:16:19.852085Z"
    }
   },
   "id": "d8973fabcfcd37dc",
   "execution_count": 14
  },
  {
   "cell_type": "code",
   "outputs": [
    {
     "name": "stdout",
     "output_type": "stream",
     "text": [
      "[[1. 1. 1. 1. 1. 1. 0. 0. 0. 0.]\n",
      " [1. 0. 0. 0. 0. 0. 0. 0. 0. 0.]\n",
      " [1. 0. 0. 0. 0. 0. 0. 0. 0. 0.]\n",
      " [1. 0. 0. 0. 0. 0. 0. 0. 0. 0.]\n",
      " [1. 0. 0. 0. 0. 0. 0. 0. 0. 0.]\n",
      " [1. 0. 0. 0. 0. 0. 0. 0. 0. 0.]\n",
      " [1. 0. 1. 1. 1. 0. 0. 0. 0. 0.]\n",
      " [1. 0. 0. 0. 0. 0. 0. 0. 0. 0.]\n",
      " [1. 0. 0. 0. 0. 0. 0. 0. 0. 0.]\n",
      " [1. 0. 0. 0. 0. 0. 0. 0. 0. 0.]]\n"
     ]
    }
   ],
   "source": [
    "# Slice the sparse matrix (for example, the first 10 rows and 10 columns)\n",
    "sliced_sparse_matrix = df_a[:10, :10]  # Adjust the slicing as needed\n",
    "\n",
    "# Convert the sliced sparse matrix to a dense matrix\n",
    "dense_sliced_matrix = sliced_sparse_matrix.toarray()\n",
    "\n",
    "# Print the dense matrix\n",
    "print(dense_sliced_matrix)"
   ],
   "metadata": {
    "collapsed": false,
    "ExecuteTime": {
     "end_time": "2025-01-22T18:16:19.864511Z",
     "start_time": "2025-01-22T18:16:19.855834Z"
    }
   },
   "id": "a8f6d02d431db9a",
   "execution_count": 15
  },
  {
   "cell_type": "code",
   "outputs": [
    {
     "data": {
      "text/plain": "<887060x134712 sparse array of type '<class 'numpy.float64'>'\n\twith 8171521 stored elements in Compressed Sparse Row format>"
     },
     "execution_count": 16,
     "metadata": {},
     "output_type": "execute_result"
    }
   ],
   "source": [
    "df_a"
   ],
   "metadata": {
    "collapsed": false,
    "ExecuteTime": {
     "end_time": "2025-01-22T18:16:19.872804Z",
     "start_time": "2025-01-22T18:16:19.865505Z"
    }
   },
   "id": "86385fb31513954a",
   "execution_count": 16
  },
  {
   "cell_type": "code",
   "outputs": [],
   "source": [
    "from scipy.sparse.linalg import svds\n",
    "from scipy.linalg import svd\n",
    "u, s, vt = svds(df_a, k=15)"
   ],
   "metadata": {
    "collapsed": false,
    "ExecuteTime": {
     "end_time": "2025-01-22T18:16:21.995004Z",
     "start_time": "2025-01-22T18:16:19.873744Z"
    }
   },
   "id": "5d3164973bb547bd",
   "execution_count": 17
  },
  {
   "cell_type": "code",
   "outputs": [
    {
     "name": "stdout",
     "output_type": "stream",
     "text": [
      "(887060, 15)\n",
      "(15,)\n",
      "(15, 134712)\n"
     ]
    }
   ],
   "source": [
    "print(u.shape)\n",
    "print(s.shape)\n",
    "print(vt.shape)"
   ],
   "metadata": {
    "collapsed": false,
    "ExecuteTime": {
     "end_time": "2025-01-22T18:17:19.883770Z",
     "start_time": "2025-01-22T18:17:19.881154Z"
    }
   },
   "id": "cfeb2f052fcad99c",
   "execution_count": 21
  },
  {
   "cell_type": "code",
   "outputs": [
    {
     "ename": "MemoryError",
     "evalue": "Unable to allocate 890. GiB for an array with shape (887060, 134712) and data type float64",
     "output_type": "error",
     "traceback": [
      "\u001B[0;31m---------------------------------------------------------------------------\u001B[0m",
      "\u001B[0;31mMemoryError\u001B[0m                               Traceback (most recent call last)",
      "Cell \u001B[0;32mIn[22], line 3\u001B[0m\n\u001B[1;32m      1\u001B[0m \u001B[38;5;28;01mimport\u001B[39;00m\u001B[38;5;250m \u001B[39m\u001B[38;5;21;01mnumpy\u001B[39;00m\u001B[38;5;250m \u001B[39m\u001B[38;5;28;01mas\u001B[39;00m\u001B[38;5;250m \u001B[39m\u001B[38;5;21;01mnp\u001B[39;00m\n\u001B[0;32m----> 3\u001B[0m reconstructed_matrix \u001B[38;5;241m=\u001B[39m \u001B[43mu\u001B[49m\u001B[43m \u001B[49m\u001B[38;5;241;43m@\u001B[39;49m\u001B[43m \u001B[49m\u001B[43mnp\u001B[49m\u001B[38;5;241;43m.\u001B[39;49m\u001B[43mdiag\u001B[49m\u001B[43m(\u001B[49m\u001B[43ms\u001B[49m\u001B[43m)\u001B[49m\u001B[43m \u001B[49m\u001B[38;5;241;43m@\u001B[39;49m\u001B[43m \u001B[49m\u001B[43mvt\u001B[49m\n",
      "\u001B[0;31mMemoryError\u001B[0m: Unable to allocate 890. GiB for an array with shape (887060, 134712) and data type float64"
     ]
    }
   ],
   "source": [
    "import numpy as np\n",
    "\n",
    "# Calculating the whole reconstructed matrix is too expensive for this dataset!\n",
    "reconstructed_matrix = u @ np.diag(s) @ vt"
   ],
   "metadata": {
    "collapsed": false,
    "ExecuteTime": {
     "end_time": "2025-01-22T18:18:03.775715Z",
     "start_time": "2025-01-22T18:18:03.647399Z"
    }
   },
   "id": "aabfaee22ea3964",
   "execution_count": 22
  },
  {
   "cell_type": "code",
   "outputs": [],
   "source": [
    "# To get the predicted ratings for playlist with index i (for example):\n",
    "playlist_index = 0  # Replace with the desired playlist index\n",
    "\n",
    "# Multiply the playlist row by the singular values\n",
    "playlist_ratings = u[playlist_index, :] @ np.diag(s)\n",
    "\n",
    "# Multiply the result by vt to get the predicted ratings for all tracks for that playlist\n",
    "predicted_ratings = playlist_ratings @ vt\n",
    "\n",
    "# Optionally, if you only want predicted ratings for a specific track (column)\n",
    "track_index = 5  # Replace with the track index of interest\n",
    "predicted_rating_for_track = predicted_ratings[track_index]"
   ],
   "metadata": {
    "collapsed": false,
    "ExecuteTime": {
     "end_time": "2025-01-22T18:31:07.935797Z",
     "start_time": "2025-01-22T18:31:07.931586Z"
    }
   },
   "id": "61aa0359a0cf81eb",
   "execution_count": 23
  },
  {
   "cell_type": "code",
   "outputs": [
    {
     "name": "stdout",
     "output_type": "stream",
     "text": [
      "[ 2.60932399e-01  1.66596602e-01  3.16699631e-01 ... -2.42845890e-07\n",
      "  3.39510711e-12  1.49022853e-06]\n"
     ]
    }
   ],
   "source": [
    "print(predicted_ratings)"
   ],
   "metadata": {
    "collapsed": false,
    "ExecuteTime": {
     "end_time": "2025-01-22T18:31:25.847553Z",
     "start_time": "2025-01-22T18:31:25.844794Z"
    }
   },
   "id": "8097454c6b87d4fb",
   "execution_count": 27
  },
  {
   "cell_type": "code",
   "outputs": [
    {
     "name": "stdout",
     "output_type": "stream",
     "text": [
      "[0.8094066  0.56283816 0.95516717 ... 0.12739875 0.12739938 0.12740328]\n"
     ]
    }
   ],
   "source": [
    "import numpy as np\n",
    "\n",
    "# Assuming u, s, vt are already obtained from svds\n",
    "\n",
    "# To get the predicted ratings for playlist with index i\n",
    "playlist_index = 0  # Replace with the desired playlist index\n",
    "\n",
    "# Multiply the playlist row by the singular values\n",
    "playlist_ratings = u[playlist_index, :] @ np.diag(s)\n",
    "\n",
    "# Multiply the result by vt to get the predicted ratings for all tracks for that playlist\n",
    "predicted_ratings = playlist_ratings @ vt\n",
    "\n",
    "# Min-max normalization to [0, 1] for the predicted ratings of the current playlist\n",
    "min_rating = np.min(predicted_ratings)\n",
    "max_rating = np.max(predicted_ratings)\n",
    "\n",
    "normalized_ratings = (predicted_ratings - min_rating) / (max_rating - min_rating)\n",
    "\n",
    "# Optionally, if you want to get the normalized rating for a specific track\n",
    "track_index = 5  # Replace with the track index of interest\n",
    "normalized_rating_for_track = normalized_ratings[track_index]\n",
    "print(normalized_ratings)"
   ],
   "metadata": {
    "collapsed": false,
    "ExecuteTime": {
     "end_time": "2025-01-22T18:36:23.299611Z",
     "start_time": "2025-01-22T18:36:23.295236Z"
    }
   },
   "id": "5addf384fb009481",
   "execution_count": 30
  }
 ],
 "metadata": {
  "kernelspec": {
   "display_name": "Python 3",
   "language": "python",
   "name": "python3"
  },
  "language_info": {
   "codemirror_mode": {
    "name": "ipython",
    "version": 2
   },
   "file_extension": ".py",
   "mimetype": "text/x-python",
   "name": "python",
   "nbconvert_exporter": "python",
   "pygments_lexer": "ipython2",
   "version": "2.7.6"
  }
 },
 "nbformat": 4,
 "nbformat_minor": 5
}
