{
 "cells": [
  {
   "cell_type": "code",
   "execution_count": 32,
   "id": "initial_id",
   "metadata": {
    "collapsed": true,
    "ExecuteTime": {
     "end_time": "2025-01-16T16:05:31.242610800Z",
     "start_time": "2025-01-16T16:05:31.185206200Z"
    }
   },
   "outputs": [],
   "source": [
    "import pandas as pd"
   ]
  },
  {
   "cell_type": "markdown",
   "source": [],
   "metadata": {
    "collapsed": false
   },
   "id": "da851b37128acbc9"
  },
  {
   "cell_type": "code",
   "execution_count": 33,
   "outputs": [],
   "source": [
    "df = pd.read_csv(\"../data/1m.csv\")"
   ],
   "metadata": {
    "collapsed": false,
    "ExecuteTime": {
     "end_time": "2025-01-16T16:05:38.989072900Z",
     "start_time": "2025-01-16T16:05:31.193712700Z"
    }
   },
   "id": "ae88d942178ff9eb"
  },
  {
   "cell_type": "code",
   "execution_count": 34,
   "outputs": [
    {
     "data": {
      "text/plain": "   playlist_id  pos        artist_name                             track_uri  \\\n0            0    0      Missy Elliott  spotify:track:0UaMYEvWZi0ZqiDOoHU3YI   \n1            0    1     Britney Spears  spotify:track:6I9VzXrHxO9rA9A5euc8Ak   \n2            0    2            Beyoncé  spotify:track:0WqIKmW4BTrj3eJFmnCKMv   \n3            0    3  Justin Timberlake  spotify:track:1AWQoqb9bSvzTjaLralEkT   \n4            0    4             Shaggy  spotify:track:1lzr43nnXAijIGYnCT8M8H   \n\n                              artist_uri  \\\n0  spotify:artist:2wIVse2owClT7go1WT98tk   \n1  spotify:artist:26dSoYclwsYLMAKD3tpOr4   \n2  spotify:artist:6vWDO969PvNqNYHIOW5v0m   \n3  spotify:artist:31TPClRtHm23RisEBtV3X7   \n4  spotify:artist:5EvFsr3kj42KNv97ZEnqij   \n\n                                   track_name  \\\n0  Lose Control (feat. Ciara & Fat Man Scoop)   \n1                                       Toxic   \n2                               Crazy In Love   \n3                              Rock Your Body   \n4                                It Wasn't Me   \n\n                              album_uri  duration_ms  \\\n0  spotify:album:6vV5UrXcfyQD1wu4Qo2I9K       226863   \n1  spotify:album:0z7pVBGOD7HCIB7S8eLkLI       198800   \n2  spotify:album:25hVFAxTlDvXbx2X2QkUkE       235933   \n3  spotify:album:6QPkyl04rXwTGlGlcYaRoW       267266   \n4  spotify:album:6NmFmPX56pcLBOFMhIiKvF       227600   \n\n                                     album_name  \n0                                  The Cookbook  \n1                                   In The Zone  \n2  Dangerously In Love (Alben für die Ewigkeit)  \n3                                     Justified  \n4                                      Hot Shot  ",
      "text/html": "<div>\n<style scoped>\n    .dataframe tbody tr th:only-of-type {\n        vertical-align: middle;\n    }\n\n    .dataframe tbody tr th {\n        vertical-align: top;\n    }\n\n    .dataframe thead th {\n        text-align: right;\n    }\n</style>\n<table border=\"1\" class=\"dataframe\">\n  <thead>\n    <tr style=\"text-align: right;\">\n      <th></th>\n      <th>playlist_id</th>\n      <th>pos</th>\n      <th>artist_name</th>\n      <th>track_uri</th>\n      <th>artist_uri</th>\n      <th>track_name</th>\n      <th>album_uri</th>\n      <th>duration_ms</th>\n      <th>album_name</th>\n    </tr>\n  </thead>\n  <tbody>\n    <tr>\n      <th>0</th>\n      <td>0</td>\n      <td>0</td>\n      <td>Missy Elliott</td>\n      <td>spotify:track:0UaMYEvWZi0ZqiDOoHU3YI</td>\n      <td>spotify:artist:2wIVse2owClT7go1WT98tk</td>\n      <td>Lose Control (feat. Ciara &amp; Fat Man Scoop)</td>\n      <td>spotify:album:6vV5UrXcfyQD1wu4Qo2I9K</td>\n      <td>226863</td>\n      <td>The Cookbook</td>\n    </tr>\n    <tr>\n      <th>1</th>\n      <td>0</td>\n      <td>1</td>\n      <td>Britney Spears</td>\n      <td>spotify:track:6I9VzXrHxO9rA9A5euc8Ak</td>\n      <td>spotify:artist:26dSoYclwsYLMAKD3tpOr4</td>\n      <td>Toxic</td>\n      <td>spotify:album:0z7pVBGOD7HCIB7S8eLkLI</td>\n      <td>198800</td>\n      <td>In The Zone</td>\n    </tr>\n    <tr>\n      <th>2</th>\n      <td>0</td>\n      <td>2</td>\n      <td>Beyoncé</td>\n      <td>spotify:track:0WqIKmW4BTrj3eJFmnCKMv</td>\n      <td>spotify:artist:6vWDO969PvNqNYHIOW5v0m</td>\n      <td>Crazy In Love</td>\n      <td>spotify:album:25hVFAxTlDvXbx2X2QkUkE</td>\n      <td>235933</td>\n      <td>Dangerously In Love (Alben für die Ewigkeit)</td>\n    </tr>\n    <tr>\n      <th>3</th>\n      <td>0</td>\n      <td>3</td>\n      <td>Justin Timberlake</td>\n      <td>spotify:track:1AWQoqb9bSvzTjaLralEkT</td>\n      <td>spotify:artist:31TPClRtHm23RisEBtV3X7</td>\n      <td>Rock Your Body</td>\n      <td>spotify:album:6QPkyl04rXwTGlGlcYaRoW</td>\n      <td>267266</td>\n      <td>Justified</td>\n    </tr>\n    <tr>\n      <th>4</th>\n      <td>0</td>\n      <td>4</td>\n      <td>Shaggy</td>\n      <td>spotify:track:1lzr43nnXAijIGYnCT8M8H</td>\n      <td>spotify:artist:5EvFsr3kj42KNv97ZEnqij</td>\n      <td>It Wasn't Me</td>\n      <td>spotify:album:6NmFmPX56pcLBOFMhIiKvF</td>\n      <td>227600</td>\n      <td>Hot Shot</td>\n    </tr>\n  </tbody>\n</table>\n</div>"
     },
     "execution_count": 34,
     "metadata": {},
     "output_type": "execute_result"
    }
   ],
   "source": [
    "df.head()\n",
    "df.rename(columns={'Unnamed: 0': 'playlist_id'}, inplace=True)\n",
    "df.head()"
   ],
   "metadata": {
    "collapsed": false,
    "ExecuteTime": {
     "end_time": "2025-01-16T16:05:38.996583800Z",
     "start_time": "2025-01-16T16:05:38.989072900Z"
    }
   },
   "id": "1a430dfc3f591537"
  },
  {
   "cell_type": "code",
   "execution_count": 35,
   "outputs": [
    {
     "data": {
      "text/plain": "                              artist_uri  artist_popularity    genre\n0  spotify:artist:2wIVse2owClT7go1WT98tk                 71  hip_hop\n1  spotify:artist:26dSoYclwsYLMAKD3tpOr4                 82      pop\n2  spotify:artist:6vWDO969PvNqNYHIOW5v0m                 86  unknown\n3  spotify:artist:31TPClRtHm23RisEBtV3X7                 81  unknown\n4  spotify:artist:5EvFsr3kj42KNv97ZEnqij                 73   reggae",
      "text/html": "<div>\n<style scoped>\n    .dataframe tbody tr th:only-of-type {\n        vertical-align: middle;\n    }\n\n    .dataframe tbody tr th {\n        vertical-align: top;\n    }\n\n    .dataframe thead th {\n        text-align: right;\n    }\n</style>\n<table border=\"1\" class=\"dataframe\">\n  <thead>\n    <tr style=\"text-align: right;\">\n      <th></th>\n      <th>artist_uri</th>\n      <th>artist_popularity</th>\n      <th>genre</th>\n    </tr>\n  </thead>\n  <tbody>\n    <tr>\n      <th>0</th>\n      <td>spotify:artist:2wIVse2owClT7go1WT98tk</td>\n      <td>71</td>\n      <td>hip_hop</td>\n    </tr>\n    <tr>\n      <th>1</th>\n      <td>spotify:artist:26dSoYclwsYLMAKD3tpOr4</td>\n      <td>82</td>\n      <td>pop</td>\n    </tr>\n    <tr>\n      <th>2</th>\n      <td>spotify:artist:6vWDO969PvNqNYHIOW5v0m</td>\n      <td>86</td>\n      <td>unknown</td>\n    </tr>\n    <tr>\n      <th>3</th>\n      <td>spotify:artist:31TPClRtHm23RisEBtV3X7</td>\n      <td>81</td>\n      <td>unknown</td>\n    </tr>\n    <tr>\n      <th>4</th>\n      <td>spotify:artist:5EvFsr3kj42KNv97ZEnqij</td>\n      <td>73</td>\n      <td>reggae</td>\n    </tr>\n  </tbody>\n</table>\n</div>"
     },
     "execution_count": 35,
     "metadata": {},
     "output_type": "execute_result"
    }
   ],
   "source": [
    "column_names = ['artist_uri', 'artist_popularity', 'genre']\n",
    "df_artist = pd.read_csv('../data/artist_features.csv', header=None, names=column_names)\n",
    "\n",
    "df_artist.head()"
   ],
   "metadata": {
    "collapsed": false,
    "ExecuteTime": {
     "end_time": "2025-01-16T16:05:39.149331200Z",
     "start_time": "2025-01-16T16:05:38.996583800Z"
    }
   },
   "id": "3d57a406bc83ec63"
  },
  {
   "cell_type": "code",
   "execution_count": 36,
   "outputs": [
    {
     "data": {
      "text/plain": "                              track_uri release_date  track_popularity\n0  spotify:track:0UaMYEvWZi0ZqiDOoHU3YI   2005-07-04                64\n1  spotify:track:6I9VzXrHxO9rA9A5euc8Ak   2003-11-13                82\n2  spotify:track:0WqIKmW4BTrj3eJFmnCKMv   2003-06-23                15\n3  spotify:track:1AWQoqb9bSvzTjaLralEkT   2002-11-04                78\n4  spotify:track:1lzr43nnXAijIGYnCT8M8H         2000                 0",
      "text/html": "<div>\n<style scoped>\n    .dataframe tbody tr th:only-of-type {\n        vertical-align: middle;\n    }\n\n    .dataframe tbody tr th {\n        vertical-align: top;\n    }\n\n    .dataframe thead th {\n        text-align: right;\n    }\n</style>\n<table border=\"1\" class=\"dataframe\">\n  <thead>\n    <tr style=\"text-align: right;\">\n      <th></th>\n      <th>track_uri</th>\n      <th>release_date</th>\n      <th>track_popularity</th>\n    </tr>\n  </thead>\n  <tbody>\n    <tr>\n      <th>0</th>\n      <td>spotify:track:0UaMYEvWZi0ZqiDOoHU3YI</td>\n      <td>2005-07-04</td>\n      <td>64</td>\n    </tr>\n    <tr>\n      <th>1</th>\n      <td>spotify:track:6I9VzXrHxO9rA9A5euc8Ak</td>\n      <td>2003-11-13</td>\n      <td>82</td>\n    </tr>\n    <tr>\n      <th>2</th>\n      <td>spotify:track:0WqIKmW4BTrj3eJFmnCKMv</td>\n      <td>2003-06-23</td>\n      <td>15</td>\n    </tr>\n    <tr>\n      <th>3</th>\n      <td>spotify:track:1AWQoqb9bSvzTjaLralEkT</td>\n      <td>2002-11-04</td>\n      <td>78</td>\n    </tr>\n    <tr>\n      <th>4</th>\n      <td>spotify:track:1lzr43nnXAijIGYnCT8M8H</td>\n      <td>2000</td>\n      <td>0</td>\n    </tr>\n  </tbody>\n</table>\n</div>"
     },
     "execution_count": 36,
     "metadata": {},
     "output_type": "execute_result"
    }
   ],
   "source": [
    "column_names = ['track_uri', 'release_date', 'track_popularity'] \n",
    "\n",
    "# Read the CSV with column names\n",
    "df_track = pd.read_csv('../data/track_features.csv', header=None, names=column_names)\n",
    "df_track.head()"
   ],
   "metadata": {
    "collapsed": false,
    "ExecuteTime": {
     "end_time": "2025-01-16T16:05:39.149331200Z",
     "start_time": "2025-01-16T16:05:39.102824800Z"
    }
   },
   "id": "1f08ee925056fef5"
  },
  {
   "cell_type": "code",
   "execution_count": 37,
   "outputs": [
    {
     "name": "stdout",
     "output_type": "stream",
     "text": [
      "   playlist_id  pos     artist_name                             track_uri  \\\n",
      "0            0    0   Missy Elliott  spotify:track:0UaMYEvWZi0ZqiDOoHU3YI   \n",
      "1            0    0   Missy Elliott  spotify:track:0UaMYEvWZi0ZqiDOoHU3YI   \n",
      "2            0    1  Britney Spears  spotify:track:6I9VzXrHxO9rA9A5euc8Ak   \n",
      "3            0    1  Britney Spears  spotify:track:6I9VzXrHxO9rA9A5euc8Ak   \n",
      "4            0    2         Beyoncé  spotify:track:0WqIKmW4BTrj3eJFmnCKMv   \n",
      "\n",
      "                              artist_uri  \\\n",
      "0  spotify:artist:2wIVse2owClT7go1WT98tk   \n",
      "1  spotify:artist:2wIVse2owClT7go1WT98tk   \n",
      "2  spotify:artist:26dSoYclwsYLMAKD3tpOr4   \n",
      "3  spotify:artist:26dSoYclwsYLMAKD3tpOr4   \n",
      "4  spotify:artist:6vWDO969PvNqNYHIOW5v0m   \n",
      "\n",
      "                                   track_name  \\\n",
      "0  Lose Control (feat. Ciara & Fat Man Scoop)   \n",
      "1  Lose Control (feat. Ciara & Fat Man Scoop)   \n",
      "2                                       Toxic   \n",
      "3                                       Toxic   \n",
      "4                               Crazy In Love   \n",
      "\n",
      "                              album_uri  duration_ms  \\\n",
      "0  spotify:album:6vV5UrXcfyQD1wu4Qo2I9K       226863   \n",
      "1  spotify:album:6vV5UrXcfyQD1wu4Qo2I9K       226863   \n",
      "2  spotify:album:0z7pVBGOD7HCIB7S8eLkLI       198800   \n",
      "3  spotify:album:0z7pVBGOD7HCIB7S8eLkLI       198800   \n",
      "4  spotify:album:25hVFAxTlDvXbx2X2QkUkE       235933   \n",
      "\n",
      "                                     album_name  artist_popularity    genre  \\\n",
      "0                                  The Cookbook               71.0  hip_hop   \n",
      "1                                  The Cookbook               71.0  hip_hop   \n",
      "2                                   In The Zone               82.0      pop   \n",
      "3                                   In The Zone               82.0      pop   \n",
      "4  Dangerously In Love (Alben für die Ewigkeit)               86.0  unknown   \n",
      "\n",
      "  release_date  track_popularity  \n",
      "0   2005-07-04              64.0  \n",
      "1   2005-07-04              64.0  \n",
      "2   2003-11-13              82.0  \n",
      "3   2003-11-13              82.0  \n",
      "4   2003-06-23              15.0  \n",
      "Index(['playlist_id', 'pos', 'artist_name', 'track_uri', 'artist_uri',\n",
      "       'track_name', 'album_uri', 'duration_ms', 'album_name',\n",
      "       'artist_popularity', 'genre', 'release_date', 'track_popularity'],\n",
      "      dtype='object')\n"
     ]
    }
   ],
   "source": [
    "# Merge df with df_artist on 'artist_uri'\n",
    "df_combined = pd.merge(df, df_artist, on='artist_uri', how='left')\n",
    "\n",
    "# Merge the resulting dataframe with df_track on 'track_uri'\n",
    "df_combined = pd.merge(df_combined, df_track, on='track_uri', how='left')\n",
    "\n",
    "# Display the first few rows of the final combined dataframe\n",
    "print(df_combined.head())\n",
    "print(df_combined.columns)"
   ],
   "metadata": {
    "collapsed": false,
    "ExecuteTime": {
     "end_time": "2025-01-16T16:05:42.001748400Z",
     "start_time": "2025-01-16T16:05:39.136207300Z"
    }
   },
   "id": "e03c0268534e0cb1"
  }
 ],
 "metadata": {
  "kernelspec": {
   "display_name": "Python 3",
   "language": "python",
   "name": "python3"
  },
  "language_info": {
   "codemirror_mode": {
    "name": "ipython",
    "version": 2
   },
   "file_extension": ".py",
   "mimetype": "text/x-python",
   "name": "python",
   "nbconvert_exporter": "python",
   "pygments_lexer": "ipython2",
   "version": "2.7.6"
  }
 },
 "nbformat": 4,
 "nbformat_minor": 5
}
