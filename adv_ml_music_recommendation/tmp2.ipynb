{
 "cells": [
  {
   "cell_type": "code",
   "execution_count": 1,
   "id": "initial_id",
   "metadata": {
    "collapsed": true,
    "ExecuteTime": {
     "end_time": "2025-01-22T22:06:58.026958Z",
     "start_time": "2025-01-22T22:06:56.049603Z"
    }
   },
   "outputs": [],
   "source": [
    "import pandas as pd\n",
    "from adv_ml_music_recommendation.recommenders.collaborativerecommender import CollaborativeRecommender\n",
    "\n",
    "df_playlist = pd.read_csv(\"../data/track_playlist_association.csv\")\n",
    "df_tracks = pd.read_csv(\"../data/matched_songs.csv\")"
   ]
  },
  {
   "cell_type": "code",
   "outputs": [
    {
     "name": "stdout",
     "output_type": "stream",
     "text": [
      "   Unnamed: 0  pos          artist_name                             track_uri  \\\n",
      "0           0    1       Britney Spears  spotify:track:6I9VzXrHxO9rA9A5euc8Ak   \n",
      "1           0    3    Justin Timberlake  spotify:track:1AWQoqb9bSvzTjaLralEkT   \n",
      "2           0    8      Destiny's Child  spotify:track:7H6ev70Weq6DdpZyyTmUXk   \n",
      "3           0    9              OutKast  spotify:track:2PpruBYCo4H7WOBJ7Q2EwM   \n",
      "4           0   19      Destiny's Child  spotify:track:4pmc2AxSEq6g7hPVlJCPyP   \n",
      "5           0   22     Bowling For Soup  spotify:track:19Js5ypV6JKn4DMExHQbGc   \n",
      "6           1    0             Survivor  spotify:track:2HHtWyy5CgaQbC7XSoOb0e   \n",
      "7           1    9      Leslie Odom Jr.  spotify:track:2TK2KSrzXD6W01qjXVjNGh   \n",
      "8           1   10  Christopher Jackson  spotify:track:3nJYcY9yvKP8Oi2Ml8brXt   \n",
      "9           1   11      Leslie Odom Jr.  spotify:track:4TTV7EcfroSLWzXRY6gLv6   \n",
      "\n",
      "                              artist_uri                      track_name  \\\n",
      "0  spotify:artist:26dSoYclwsYLMAKD3tpOr4                           Toxic   \n",
      "1  spotify:artist:31TPClRtHm23RisEBtV3X7                  Rock Your Body   \n",
      "2  spotify:artist:1Y8cdNmUJH7yBTd9yOvr5i                     Say My Name   \n",
      "3  spotify:artist:1G9G7WwrXka3Z1r7aIDjI7  Hey Ya! - Radio Mix / Club Mix   \n",
      "4  spotify:artist:1Y8cdNmUJH7yBTd9yOvr5i                Jumpin', Jumpin'   \n",
      "5  spotify:artist:5ND0mGcL9SKSjWIjPd0xIb                     Stacy's Mom   \n",
      "6  spotify:artist:26bcq2nyj5GB7uRr558iQg                Eye of the Tiger   \n",
      "7  spotify:artist:3cR4rhS2hBWqI7rJEBacvN       The Room Where It Happens   \n",
      "8  spotify:artist:6sLwRSXSUF5JTUnQaFenyj                  Right Hand Man   \n",
      "9  spotify:artist:3cR4rhS2hBWqI7rJEBacvN              Alexander Hamilton   \n",
      "\n",
      "                              album_uri  duration_ms_x  \\\n",
      "0  spotify:album:0z7pVBGOD7HCIB7S8eLkLI         198800   \n",
      "1  spotify:album:6QPkyl04rXwTGlGlcYaRoW         267266   \n",
      "2  spotify:album:283NWqNsCA9GwVHrJk59CG         271333   \n",
      "3  spotify:album:1UsmQ3bpJTyK6ygoOOjG1r         235213   \n",
      "4  spotify:album:283NWqNsCA9GwVHrJk59CG         230200   \n",
      "5  spotify:album:3Q7xpHmP8k3HryE0LQdIk0         193042   \n",
      "6  spotify:album:4PT9VulQaQP6XR1xBI2x1W         243773   \n",
      "7  spotify:album:1kCHru7uhxBUdzkm4gzRQc         318214   \n",
      "8  spotify:album:1kCHru7uhxBUdzkm4gzRQc         321696   \n",
      "9  spotify:album:1kCHru7uhxBUdzkm4gzRQc         236737   \n",
      "\n",
      "                           album_name                      id  ... liveness  \\\n",
      "0                         In The Zone  6I9VzXrHxO9rA9A5euc8Ak  ...   0.2420   \n",
      "1                           Justified  1AWQoqb9bSvzTjaLralEkT  ...   0.0521   \n",
      "2           The Writing's On The Wall  7H6ev70Weq6DdpZyyTmUXk  ...   0.1490   \n",
      "3         Speakerboxxx/The Love Below  2PpruBYCo4H7WOBJ7Q2EwM  ...   0.1740   \n",
      "4           The Writing's On The Wall  4pmc2AxSEq6g7hPVlJCPyP  ...   0.0537   \n",
      "5  I've Never Done Anything Like This  19Js5ypV6JKn4DMExHQbGc  ...   0.0907   \n",
      "6                    Eye Of The Tiger  2HHtWyy5CgaQbC7XSoOb0e  ...   0.0787   \n",
      "7                            Hamilton  2TK2KSrzXD6W01qjXVjNGh  ...   0.6640   \n",
      "8                            Hamilton  3nJYcY9yvKP8Oi2Ml8brXt  ...   0.2050   \n",
      "9                            Hamilton  4TTV7EcfroSLWzXRY6gLv6  ...   0.1180   \n",
      "\n",
      "  valence    tempo duration_ms_y time_signature  year  release_date  \\\n",
      "0   0.924  143.040        198800            4.0  2003    2003-11-13   \n",
      "1   0.818  100.972        267267            4.0  2002    2002-11-04   \n",
      "2   0.734  138.009        271333            4.0  1999    1999-07-27   \n",
      "3   0.965   79.526        235213            4.0  2003          2003   \n",
      "4   0.683   88.997        230200            4.0  1999    1999-07-27   \n",
      "5   0.813  119.989        193043            4.0  2011    2011-04-26   \n",
      "6   0.552  108.965        243773            4.0  1982          1982   \n",
      "7   0.511  173.552        318215            4.0  2015    2015-09-25   \n",
      "8   0.383  158.576        321697            4.0  2015    2015-09-25   \n",
      "9   0.552  131.995        236738            4.0  2015    2015-09-25   \n",
      "\n",
      "   predicted_rating_content  predicted_rating_collab  predicted_rating  \n",
      "0                  0.999599                 1.000000          0.999719  \n",
      "1                  0.999516                 0.968413          0.990185  \n",
      "2                  0.999516                 0.818136          0.945102  \n",
      "3                  0.999513                 0.725270          0.917240  \n",
      "4                  0.999492                 0.667910          0.900017  \n",
      "5                  0.999479                 0.612510          0.883389  \n",
      "6                  0.999464                 0.547461          0.863863  \n",
      "7                  0.999460                 0.521407          0.856044  \n",
      "8                  0.999446                 0.497800          0.848952  \n",
      "9                  0.999442                 0.468093          0.840037  \n",
      "\n",
      "[10 rows x 36 columns]\n",
      "                              track_uri                      track_name  \\\n",
      "0  spotify:track:6I9VzXrHxO9rA9A5euc8Ak                           Toxic   \n",
      "1  spotify:track:1AWQoqb9bSvzTjaLralEkT                  Rock Your Body   \n",
      "2  spotify:track:7H6ev70Weq6DdpZyyTmUXk                     Say My Name   \n",
      "3  spotify:track:2PpruBYCo4H7WOBJ7Q2EwM  Hey Ya! - Radio Mix / Club Mix   \n",
      "4  spotify:track:4pmc2AxSEq6g7hPVlJCPyP                Jumpin', Jumpin'   \n",
      "5  spotify:track:19Js5ypV6JKn4DMExHQbGc                     Stacy's Mom   \n",
      "6  spotify:track:2HHtWyy5CgaQbC7XSoOb0e                Eye of the Tiger   \n",
      "7  spotify:track:2TK2KSrzXD6W01qjXVjNGh       The Room Where It Happens   \n",
      "8  spotify:track:3nJYcY9yvKP8Oi2Ml8brXt                  Right Hand Man   \n",
      "9  spotify:track:4TTV7EcfroSLWzXRY6gLv6              Alexander Hamilton   \n",
      "\n",
      "           artist_name  predicted_rating  \n",
      "0       Britney Spears          0.999719  \n",
      "1    Justin Timberlake          0.990185  \n",
      "2      Destiny's Child          0.945102  \n",
      "3              OutKast          0.917240  \n",
      "4      Destiny's Child          0.900017  \n",
      "5     Bowling For Soup          0.883389  \n",
      "6             Survivor          0.863863  \n",
      "7      Leslie Odom Jr.          0.856044  \n",
      "8  Christopher Jackson          0.848952  \n",
      "9      Leslie Odom Jr.          0.840037  \n"
     ]
    }
   ],
   "source": [
    "from adv_ml_music_recommendation.recommenders.hybridrecommender import HybridRecommender\n",
    "\n",
    "recommender = HybridRecommender(df_playlist=df_playlist, df_tracks=df_tracks)\n",
    "\n",
    "# Get the top 10 recommended tracks for a specific playlist\n",
    "playlist_id = 14 # Replace with the playlist_id for which you want recommendations\n",
    "top_k = 10  # Number of tracks to recommend\n",
    "\n",
    "recommended_tracks = recommender.recommend_tracks(playlist_id=playlist_id, top_k=top_k)\n",
    "\n",
    "print(recommended_tracks)\n",
    "print(recommended_tracks[['track_uri', 'track_name', 'artist_name', 'predicted_rating']])"
   ],
   "metadata": {
    "collapsed": false,
    "ExecuteTime": {
     "end_time": "2025-01-22T22:08:52.203694Z",
     "start_time": "2025-01-22T22:08:20.279928Z"
    }
   },
   "id": "841f0ab3c54733a3",
   "execution_count": 3
  },
  {
   "cell_type": "code",
   "outputs": [
    {
     "data": {
      "text/plain": "(10, 36)"
     },
     "execution_count": 4,
     "metadata": {},
     "output_type": "execute_result"
    }
   ],
   "source": [
    "recommended_tracks.shape"
   ],
   "metadata": {
    "collapsed": false,
    "ExecuteTime": {
     "end_time": "2025-01-22T22:09:02.669429Z",
     "start_time": "2025-01-22T22:09:02.665359Z"
    }
   },
   "id": "2a7ca488ffc1efaa",
   "execution_count": 4
  },
  {
   "cell_type": "code",
   "outputs": [
    {
     "data": {
      "text/plain": "Index(['Unnamed: 0', 'pos', 'artist_name', 'track_uri', 'artist_uri',\n       'track_name', 'album_uri', 'duration_ms_x', 'album_name', 'id', 'name',\n       'album', 'album_id', 'artists', 'artist_ids', 'track_number',\n       'disc_number', 'explicit', 'danceability', 'energy', 'key', 'loudness',\n       'mode', 'speechiness', 'acousticness', 'instrumentalness', 'liveness',\n       'valence', 'tempo', 'duration_ms_y', 'time_signature', 'year',\n       'release_date'],\n      dtype='object')"
     },
     "execution_count": 5,
     "metadata": {},
     "output_type": "execute_result"
    }
   ],
   "source": [
    "df_tracks.columns"
   ],
   "metadata": {
    "collapsed": false,
    "ExecuteTime": {
     "end_time": "2025-01-22T22:09:05.607585Z",
     "start_time": "2025-01-22T22:09:05.604344Z"
    }
   },
   "id": "8dff78e9b6b8bb0b",
   "execution_count": 5
  },
  {
   "cell_type": "code",
   "outputs": [
    {
     "data": {
      "text/plain": "                               track_uri  playlist_id  Unnamed: 0  pos  \\\n0   spotify:track:1OFKUn2VLafrHj7ybnap0Q           14           4   16   \n1   spotify:track:0HDaKOlVAfUWXdFR2RhBtN           14          14    0   \n2   spotify:track:3jS7bB0oXVOwGFZn3aE5NV           14          14    1   \n3   spotify:track:0wvIGFIgbyz4JNwQhZgTv2           14          14    2   \n4   spotify:track:0ttHpMs250dpFkCYAnuhnE           14          14    7   \n5   spotify:track:4GiVcDqNQI0fc0yYuRGH9m           14          14   30   \n6   spotify:track:6PNvv1dmDbOWrAYwEcuKBX           14          14   34   \n7   spotify:track:5OQsiBsky2k2kDKy2bX2eT           14          14   35   \n8   spotify:track:3LRJbFT9rKoKv4aW7PuBJC           14          14   44   \n9   spotify:track:5vYA1mW9g2Coh1HUFUSmlb           14          14   58   \n10  spotify:track:70fe354BpVKEvMY0de78YO           14          14   60   \n11  spotify:track:2KVwlelhxKUy8LVV6JypH3           14          14   61   \n12  spotify:track:62nQ8UZVqR2RMvkJHkcO2o           14          14   76   \n13  spotify:track:2B98ljvzqpCVgt5reTHq28           14          14   77   \n14  spotify:track:1G391cbiT3v3Cywg8T7DM1           14          14   79   \n15  spotify:track:4ocbH5ZJqajZIpUrqRUoue           14          14   95   \n16  spotify:track:7GuLQiPvQbfzP0kqcvgIQQ           14          14  100   \n\n              artist_name                             artist_uri  \\\n0   Hootie & The Blowfish  spotify:artist:08ct2eZF5lUPdJpHwNKWof   \n1                     311  spotify:artist:41Q0HrwWBtuUkJc7C1Rp6K   \n2       Alanis Morissette  spotify:artist:6ogn9necmbUdCppmNnGOdi   \n3         Alice In Chains  spotify:artist:64tNsm6TnZe2zpcMVMOoHL   \n4        Better Than Ezra  spotify:artist:4UuoJfJ9UybJft7a8E6UHX   \n5                   Eve 6  spotify:artist:4Eqd24yS5YcxI8b6Xfuwr8   \n6             Fiona Apple  spotify:artist:3g2kUQ6tHLLbmkV7T4GPtL   \n7            Foo Fighters  spotify:artist:7jy3rLJdDQY21OgRLCZ9sD   \n8               Green Day  spotify:artist:7oPftvlwr6VrsViSDV7fJY   \n9         Matchbox Twenty  spotify:artist:3Ngh2zDBRPEriyxQDAMKd1   \n10        Matchbox Twenty  spotify:artist:3Ngh2zDBRPEriyxQDAMKd1   \n11        Matchbox Twenty  spotify:artist:3Ngh2zDBRPEriyxQDAMKd1   \n12              Pearl Jam  spotify:artist:1w5Kfo2jwwIPruYS2UWh56   \n13              Pearl Jam  spotify:artist:1w5Kfo2jwwIPruYS2UWh56   \n14  Red Hot Chili Peppers  spotify:artist:0L8ExT028jH3ddEcZwqJJ5   \n15                  Train  spotify:artist:3FUY2gzHeIiaesXtOAdB7A   \n16       Better Than Ezra  spotify:artist:4UuoJfJ9UybJft7a8E6UHX   \n\n                           track_name                             album_uri  \\\n0              Only Wanna Be With You  spotify:album:5AYmpTfdv1OoASUJ5rZB7K   \n1                                Down  spotify:album:6VIeIM5tetuv7FrYxISffU   \n2   You Oughta Know - 2015 Remastered  spotify:album:5Ap3F8CxjjsQKZGASDcHNA   \n3                             Rooster  spotify:album:58NXIEYqmq5dQHg9nV9duM   \n4                                Good  spotify:album:0c8yj78CBgDsEvq9pzudIS   \n5                          Inside Out  spotify:album:1qJOmC60ez9RNWPg4ELMBW   \n6                            Criminal  spotify:album:5gVBXH8MT6zfdRkjp7qT18   \n7                        Learn to Fly  spotify:album:28q2N44ocJECgf8sbHEDfY   \n8                            Longview  spotify:album:4uG8q3GPuWHQlRbswMIRS6   \n9                                 3AM  spotify:album:4vUXTcKz7tXxrNl84meN6i   \n10                         Real World  spotify:album:4vUXTcKz7tXxrNl84meN6i   \n11                               Push  spotify:album:4vUXTcKz7tXxrNl84meN6i   \n12                             Jeremy  spotify:album:5B4PYA7wNN4WdEXdIJu58a   \n13            Better Man - Remastered  spotify:album:5pd9B3KQWKshHw4lnsSLNy   \n14                        Scar Tissue  spotify:album:2Y9IRtehByVkegoD7TcLfi   \n15                      Meet Virginia  spotify:album:01aoYWjhjshlHf5vJNYb03   \n16                Desperately Wanting  spotify:album:7aVHqEFKpPIKmrniwwViom   \n\n    duration_ms_x                       album_name  ... speechiness  \\\n0          229586                Cracked Rear View  ...      0.0355   \n1          172160                              311  ...      0.0655   \n2          249493  Jagged Little Pill (Remastered)  ...      0.0576   \n3          374333                             Dirt  ...      0.0274   \n4          185093                           Deluxe  ...      0.0290   \n5          219466                            Eve 6  ...      0.0444   \n6          341533                            Tidal  ...      0.0326   \n7          235293    There Is Nothing Left To Lose  ...      0.0408   \n8          233240                           Dookie  ...      0.0536   \n9          225946     Yourself Or Someone Like You  ...      0.0284   \n10         231693     Yourself Or Someone Like You  ...      0.0437   \n11         238666     Yourself Or Someone Like You  ...      0.0270   \n12         318226                              Ten  ...      0.0438   \n13         268586                         Vitalogy  ...      0.0387   \n14         215906                  Californication  ...      0.0295   \n15         239933                            Train  ...      0.0486   \n16         277493                    Friction Baby  ...      0.0378   \n\n   acousticness instrumentalness liveness valence    tempo  duration_ms_y  \\\n0      0.107000         0.000005   0.1180   0.513  103.272         229587   \n1      0.000179         0.000002   0.3810   0.565  175.411         172160   \n2      0.210000         0.000000   0.4520   0.411  105.292         249493   \n3      0.030700         0.000619   0.1180   0.202  144.408         374333   \n4      0.000372         0.020400   0.1320   0.792  109.950         185093   \n5      0.114000         0.000000   0.3670   0.691  175.668         219467   \n6      0.012900         0.000020   0.2990   0.586   89.846         341533   \n7      0.000018         0.000021   0.2620   0.537  135.997         235293   \n8      0.008340         0.010100   0.0854   0.814  142.504         233240   \n9      0.005730         0.000000   0.1200   0.543  108.031         225947   \n10     0.006280         0.000000   0.0892   0.884  117.999         231693   \n11     0.006700         0.000000   0.1080   0.476  168.019         238667   \n12     0.040400         0.000000   0.1820   0.287  108.808         318227   \n13     0.165000         0.000016   0.0791   0.267  125.712         268587   \n14     0.077900         0.002740   0.1080   0.547   88.969         215907   \n15     0.086300         0.000008   0.1180   0.594   90.020         239933   \n16     0.000165         0.008980   0.2470   0.478   99.920         277493   \n\n    time_signature  year  release_date  \n0              4.0  1994    1994-07-01  \n1              4.0  1995    1995-07-11  \n2              4.0  1995          1995  \n3              3.0  1992    1992-09-29  \n4              4.0  1995    1995-02-28  \n5              4.0  1998          1998  \n6              4.0  1996    1996-07-23  \n7              4.0  1999    1999-11-02  \n8              4.0  1994    1994-02-01  \n9              4.0  1996    1996-10-01  \n10             4.0  1996    1996-10-01  \n11             4.0  1996    1996-10-01  \n12             4.0  1991    1991-08-27  \n13             4.0  1994    1994-11-22  \n14             4.0  1999    1999-06-08  \n15             4.0  1998    1998-02-24  \n16             4.0  1996    1996-08-02  \n\n[17 rows x 34 columns]",
      "text/html": "<div>\n<style scoped>\n    .dataframe tbody tr th:only-of-type {\n        vertical-align: middle;\n    }\n\n    .dataframe tbody tr th {\n        vertical-align: top;\n    }\n\n    .dataframe thead th {\n        text-align: right;\n    }\n</style>\n<table border=\"1\" class=\"dataframe\">\n  <thead>\n    <tr style=\"text-align: right;\">\n      <th></th>\n      <th>track_uri</th>\n      <th>playlist_id</th>\n      <th>Unnamed: 0</th>\n      <th>pos</th>\n      <th>artist_name</th>\n      <th>artist_uri</th>\n      <th>track_name</th>\n      <th>album_uri</th>\n      <th>duration_ms_x</th>\n      <th>album_name</th>\n      <th>...</th>\n      <th>speechiness</th>\n      <th>acousticness</th>\n      <th>instrumentalness</th>\n      <th>liveness</th>\n      <th>valence</th>\n      <th>tempo</th>\n      <th>duration_ms_y</th>\n      <th>time_signature</th>\n      <th>year</th>\n      <th>release_date</th>\n    </tr>\n  </thead>\n  <tbody>\n    <tr>\n      <th>0</th>\n      <td>spotify:track:1OFKUn2VLafrHj7ybnap0Q</td>\n      <td>14</td>\n      <td>4</td>\n      <td>16</td>\n      <td>Hootie &amp; The Blowfish</td>\n      <td>spotify:artist:08ct2eZF5lUPdJpHwNKWof</td>\n      <td>Only Wanna Be With You</td>\n      <td>spotify:album:5AYmpTfdv1OoASUJ5rZB7K</td>\n      <td>229586</td>\n      <td>Cracked Rear View</td>\n      <td>...</td>\n      <td>0.0355</td>\n      <td>0.107000</td>\n      <td>0.000005</td>\n      <td>0.1180</td>\n      <td>0.513</td>\n      <td>103.272</td>\n      <td>229587</td>\n      <td>4.0</td>\n      <td>1994</td>\n      <td>1994-07-01</td>\n    </tr>\n    <tr>\n      <th>1</th>\n      <td>spotify:track:0HDaKOlVAfUWXdFR2RhBtN</td>\n      <td>14</td>\n      <td>14</td>\n      <td>0</td>\n      <td>311</td>\n      <td>spotify:artist:41Q0HrwWBtuUkJc7C1Rp6K</td>\n      <td>Down</td>\n      <td>spotify:album:6VIeIM5tetuv7FrYxISffU</td>\n      <td>172160</td>\n      <td>311</td>\n      <td>...</td>\n      <td>0.0655</td>\n      <td>0.000179</td>\n      <td>0.000002</td>\n      <td>0.3810</td>\n      <td>0.565</td>\n      <td>175.411</td>\n      <td>172160</td>\n      <td>4.0</td>\n      <td>1995</td>\n      <td>1995-07-11</td>\n    </tr>\n    <tr>\n      <th>2</th>\n      <td>spotify:track:3jS7bB0oXVOwGFZn3aE5NV</td>\n      <td>14</td>\n      <td>14</td>\n      <td>1</td>\n      <td>Alanis Morissette</td>\n      <td>spotify:artist:6ogn9necmbUdCppmNnGOdi</td>\n      <td>You Oughta Know - 2015 Remastered</td>\n      <td>spotify:album:5Ap3F8CxjjsQKZGASDcHNA</td>\n      <td>249493</td>\n      <td>Jagged Little Pill (Remastered)</td>\n      <td>...</td>\n      <td>0.0576</td>\n      <td>0.210000</td>\n      <td>0.000000</td>\n      <td>0.4520</td>\n      <td>0.411</td>\n      <td>105.292</td>\n      <td>249493</td>\n      <td>4.0</td>\n      <td>1995</td>\n      <td>1995</td>\n    </tr>\n    <tr>\n      <th>3</th>\n      <td>spotify:track:0wvIGFIgbyz4JNwQhZgTv2</td>\n      <td>14</td>\n      <td>14</td>\n      <td>2</td>\n      <td>Alice In Chains</td>\n      <td>spotify:artist:64tNsm6TnZe2zpcMVMOoHL</td>\n      <td>Rooster</td>\n      <td>spotify:album:58NXIEYqmq5dQHg9nV9duM</td>\n      <td>374333</td>\n      <td>Dirt</td>\n      <td>...</td>\n      <td>0.0274</td>\n      <td>0.030700</td>\n      <td>0.000619</td>\n      <td>0.1180</td>\n      <td>0.202</td>\n      <td>144.408</td>\n      <td>374333</td>\n      <td>3.0</td>\n      <td>1992</td>\n      <td>1992-09-29</td>\n    </tr>\n    <tr>\n      <th>4</th>\n      <td>spotify:track:0ttHpMs250dpFkCYAnuhnE</td>\n      <td>14</td>\n      <td>14</td>\n      <td>7</td>\n      <td>Better Than Ezra</td>\n      <td>spotify:artist:4UuoJfJ9UybJft7a8E6UHX</td>\n      <td>Good</td>\n      <td>spotify:album:0c8yj78CBgDsEvq9pzudIS</td>\n      <td>185093</td>\n      <td>Deluxe</td>\n      <td>...</td>\n      <td>0.0290</td>\n      <td>0.000372</td>\n      <td>0.020400</td>\n      <td>0.1320</td>\n      <td>0.792</td>\n      <td>109.950</td>\n      <td>185093</td>\n      <td>4.0</td>\n      <td>1995</td>\n      <td>1995-02-28</td>\n    </tr>\n    <tr>\n      <th>5</th>\n      <td>spotify:track:4GiVcDqNQI0fc0yYuRGH9m</td>\n      <td>14</td>\n      <td>14</td>\n      <td>30</td>\n      <td>Eve 6</td>\n      <td>spotify:artist:4Eqd24yS5YcxI8b6Xfuwr8</td>\n      <td>Inside Out</td>\n      <td>spotify:album:1qJOmC60ez9RNWPg4ELMBW</td>\n      <td>219466</td>\n      <td>Eve 6</td>\n      <td>...</td>\n      <td>0.0444</td>\n      <td>0.114000</td>\n      <td>0.000000</td>\n      <td>0.3670</td>\n      <td>0.691</td>\n      <td>175.668</td>\n      <td>219467</td>\n      <td>4.0</td>\n      <td>1998</td>\n      <td>1998</td>\n    </tr>\n    <tr>\n      <th>6</th>\n      <td>spotify:track:6PNvv1dmDbOWrAYwEcuKBX</td>\n      <td>14</td>\n      <td>14</td>\n      <td>34</td>\n      <td>Fiona Apple</td>\n      <td>spotify:artist:3g2kUQ6tHLLbmkV7T4GPtL</td>\n      <td>Criminal</td>\n      <td>spotify:album:5gVBXH8MT6zfdRkjp7qT18</td>\n      <td>341533</td>\n      <td>Tidal</td>\n      <td>...</td>\n      <td>0.0326</td>\n      <td>0.012900</td>\n      <td>0.000020</td>\n      <td>0.2990</td>\n      <td>0.586</td>\n      <td>89.846</td>\n      <td>341533</td>\n      <td>4.0</td>\n      <td>1996</td>\n      <td>1996-07-23</td>\n    </tr>\n    <tr>\n      <th>7</th>\n      <td>spotify:track:5OQsiBsky2k2kDKy2bX2eT</td>\n      <td>14</td>\n      <td>14</td>\n      <td>35</td>\n      <td>Foo Fighters</td>\n      <td>spotify:artist:7jy3rLJdDQY21OgRLCZ9sD</td>\n      <td>Learn to Fly</td>\n      <td>spotify:album:28q2N44ocJECgf8sbHEDfY</td>\n      <td>235293</td>\n      <td>There Is Nothing Left To Lose</td>\n      <td>...</td>\n      <td>0.0408</td>\n      <td>0.000018</td>\n      <td>0.000021</td>\n      <td>0.2620</td>\n      <td>0.537</td>\n      <td>135.997</td>\n      <td>235293</td>\n      <td>4.0</td>\n      <td>1999</td>\n      <td>1999-11-02</td>\n    </tr>\n    <tr>\n      <th>8</th>\n      <td>spotify:track:3LRJbFT9rKoKv4aW7PuBJC</td>\n      <td>14</td>\n      <td>14</td>\n      <td>44</td>\n      <td>Green Day</td>\n      <td>spotify:artist:7oPftvlwr6VrsViSDV7fJY</td>\n      <td>Longview</td>\n      <td>spotify:album:4uG8q3GPuWHQlRbswMIRS6</td>\n      <td>233240</td>\n      <td>Dookie</td>\n      <td>...</td>\n      <td>0.0536</td>\n      <td>0.008340</td>\n      <td>0.010100</td>\n      <td>0.0854</td>\n      <td>0.814</td>\n      <td>142.504</td>\n      <td>233240</td>\n      <td>4.0</td>\n      <td>1994</td>\n      <td>1994-02-01</td>\n    </tr>\n    <tr>\n      <th>9</th>\n      <td>spotify:track:5vYA1mW9g2Coh1HUFUSmlb</td>\n      <td>14</td>\n      <td>14</td>\n      <td>58</td>\n      <td>Matchbox Twenty</td>\n      <td>spotify:artist:3Ngh2zDBRPEriyxQDAMKd1</td>\n      <td>3AM</td>\n      <td>spotify:album:4vUXTcKz7tXxrNl84meN6i</td>\n      <td>225946</td>\n      <td>Yourself Or Someone Like You</td>\n      <td>...</td>\n      <td>0.0284</td>\n      <td>0.005730</td>\n      <td>0.000000</td>\n      <td>0.1200</td>\n      <td>0.543</td>\n      <td>108.031</td>\n      <td>225947</td>\n      <td>4.0</td>\n      <td>1996</td>\n      <td>1996-10-01</td>\n    </tr>\n    <tr>\n      <th>10</th>\n      <td>spotify:track:70fe354BpVKEvMY0de78YO</td>\n      <td>14</td>\n      <td>14</td>\n      <td>60</td>\n      <td>Matchbox Twenty</td>\n      <td>spotify:artist:3Ngh2zDBRPEriyxQDAMKd1</td>\n      <td>Real World</td>\n      <td>spotify:album:4vUXTcKz7tXxrNl84meN6i</td>\n      <td>231693</td>\n      <td>Yourself Or Someone Like You</td>\n      <td>...</td>\n      <td>0.0437</td>\n      <td>0.006280</td>\n      <td>0.000000</td>\n      <td>0.0892</td>\n      <td>0.884</td>\n      <td>117.999</td>\n      <td>231693</td>\n      <td>4.0</td>\n      <td>1996</td>\n      <td>1996-10-01</td>\n    </tr>\n    <tr>\n      <th>11</th>\n      <td>spotify:track:2KVwlelhxKUy8LVV6JypH3</td>\n      <td>14</td>\n      <td>14</td>\n      <td>61</td>\n      <td>Matchbox Twenty</td>\n      <td>spotify:artist:3Ngh2zDBRPEriyxQDAMKd1</td>\n      <td>Push</td>\n      <td>spotify:album:4vUXTcKz7tXxrNl84meN6i</td>\n      <td>238666</td>\n      <td>Yourself Or Someone Like You</td>\n      <td>...</td>\n      <td>0.0270</td>\n      <td>0.006700</td>\n      <td>0.000000</td>\n      <td>0.1080</td>\n      <td>0.476</td>\n      <td>168.019</td>\n      <td>238667</td>\n      <td>4.0</td>\n      <td>1996</td>\n      <td>1996-10-01</td>\n    </tr>\n    <tr>\n      <th>12</th>\n      <td>spotify:track:62nQ8UZVqR2RMvkJHkcO2o</td>\n      <td>14</td>\n      <td>14</td>\n      <td>76</td>\n      <td>Pearl Jam</td>\n      <td>spotify:artist:1w5Kfo2jwwIPruYS2UWh56</td>\n      <td>Jeremy</td>\n      <td>spotify:album:5B4PYA7wNN4WdEXdIJu58a</td>\n      <td>318226</td>\n      <td>Ten</td>\n      <td>...</td>\n      <td>0.0438</td>\n      <td>0.040400</td>\n      <td>0.000000</td>\n      <td>0.1820</td>\n      <td>0.287</td>\n      <td>108.808</td>\n      <td>318227</td>\n      <td>4.0</td>\n      <td>1991</td>\n      <td>1991-08-27</td>\n    </tr>\n    <tr>\n      <th>13</th>\n      <td>spotify:track:2B98ljvzqpCVgt5reTHq28</td>\n      <td>14</td>\n      <td>14</td>\n      <td>77</td>\n      <td>Pearl Jam</td>\n      <td>spotify:artist:1w5Kfo2jwwIPruYS2UWh56</td>\n      <td>Better Man - Remastered</td>\n      <td>spotify:album:5pd9B3KQWKshHw4lnsSLNy</td>\n      <td>268586</td>\n      <td>Vitalogy</td>\n      <td>...</td>\n      <td>0.0387</td>\n      <td>0.165000</td>\n      <td>0.000016</td>\n      <td>0.0791</td>\n      <td>0.267</td>\n      <td>125.712</td>\n      <td>268587</td>\n      <td>4.0</td>\n      <td>1994</td>\n      <td>1994-11-22</td>\n    </tr>\n    <tr>\n      <th>14</th>\n      <td>spotify:track:1G391cbiT3v3Cywg8T7DM1</td>\n      <td>14</td>\n      <td>14</td>\n      <td>79</td>\n      <td>Red Hot Chili Peppers</td>\n      <td>spotify:artist:0L8ExT028jH3ddEcZwqJJ5</td>\n      <td>Scar Tissue</td>\n      <td>spotify:album:2Y9IRtehByVkegoD7TcLfi</td>\n      <td>215906</td>\n      <td>Californication</td>\n      <td>...</td>\n      <td>0.0295</td>\n      <td>0.077900</td>\n      <td>0.002740</td>\n      <td>0.1080</td>\n      <td>0.547</td>\n      <td>88.969</td>\n      <td>215907</td>\n      <td>4.0</td>\n      <td>1999</td>\n      <td>1999-06-08</td>\n    </tr>\n    <tr>\n      <th>15</th>\n      <td>spotify:track:4ocbH5ZJqajZIpUrqRUoue</td>\n      <td>14</td>\n      <td>14</td>\n      <td>95</td>\n      <td>Train</td>\n      <td>spotify:artist:3FUY2gzHeIiaesXtOAdB7A</td>\n      <td>Meet Virginia</td>\n      <td>spotify:album:01aoYWjhjshlHf5vJNYb03</td>\n      <td>239933</td>\n      <td>Train</td>\n      <td>...</td>\n      <td>0.0486</td>\n      <td>0.086300</td>\n      <td>0.000008</td>\n      <td>0.1180</td>\n      <td>0.594</td>\n      <td>90.020</td>\n      <td>239933</td>\n      <td>4.0</td>\n      <td>1998</td>\n      <td>1998-02-24</td>\n    </tr>\n    <tr>\n      <th>16</th>\n      <td>spotify:track:7GuLQiPvQbfzP0kqcvgIQQ</td>\n      <td>14</td>\n      <td>14</td>\n      <td>100</td>\n      <td>Better Than Ezra</td>\n      <td>spotify:artist:4UuoJfJ9UybJft7a8E6UHX</td>\n      <td>Desperately Wanting</td>\n      <td>spotify:album:7aVHqEFKpPIKmrniwwViom</td>\n      <td>277493</td>\n      <td>Friction Baby</td>\n      <td>...</td>\n      <td>0.0378</td>\n      <td>0.000165</td>\n      <td>0.008980</td>\n      <td>0.2470</td>\n      <td>0.478</td>\n      <td>99.920</td>\n      <td>277493</td>\n      <td>4.0</td>\n      <td>1996</td>\n      <td>1996-08-02</td>\n    </tr>\n  </tbody>\n</table>\n<p>17 rows × 34 columns</p>\n</div>"
     },
     "execution_count": 8,
     "metadata": {},
     "output_type": "execute_result"
    }
   ],
   "source": [
    "from adv_ml_music_recommendation.util.data_functions import get_tracks_by_playlist\n",
    "\n",
    "get_tracks_by_playlist(df_playlist, df_tracks, 14)"
   ],
   "metadata": {
    "collapsed": false,
    "ExecuteTime": {
     "end_time": "2025-01-22T22:09:26.674022Z",
     "start_time": "2025-01-22T22:09:26.636007Z"
    }
   },
   "id": "58688e9ef4f3948d",
   "execution_count": 8
  },
  {
   "cell_type": "code",
   "outputs": [
    {
     "data": {
      "text/plain": "   Unnamed: 0  pos          artist_name                             track_uri  \\\n0           0    1       Britney Spears  spotify:track:6I9VzXrHxO9rA9A5euc8Ak   \n1           0    3    Justin Timberlake  spotify:track:1AWQoqb9bSvzTjaLralEkT   \n2           0    8      Destiny's Child  spotify:track:7H6ev70Weq6DdpZyyTmUXk   \n3           0    9              OutKast  spotify:track:2PpruBYCo4H7WOBJ7Q2EwM   \n4           0   19      Destiny's Child  spotify:track:4pmc2AxSEq6g7hPVlJCPyP   \n5           0   22     Bowling For Soup  spotify:track:19Js5ypV6JKn4DMExHQbGc   \n6           1    0             Survivor  spotify:track:2HHtWyy5CgaQbC7XSoOb0e   \n7           1    9      Leslie Odom Jr.  spotify:track:2TK2KSrzXD6W01qjXVjNGh   \n8           1   10  Christopher Jackson  spotify:track:3nJYcY9yvKP8Oi2Ml8brXt   \n9           1   11      Leslie Odom Jr.  spotify:track:4TTV7EcfroSLWzXRY6gLv6   \n\n                              artist_uri                      track_name  \\\n0  spotify:artist:26dSoYclwsYLMAKD3tpOr4                           Toxic   \n1  spotify:artist:31TPClRtHm23RisEBtV3X7                  Rock Your Body   \n2  spotify:artist:1Y8cdNmUJH7yBTd9yOvr5i                     Say My Name   \n3  spotify:artist:1G9G7WwrXka3Z1r7aIDjI7  Hey Ya! - Radio Mix / Club Mix   \n4  spotify:artist:1Y8cdNmUJH7yBTd9yOvr5i                Jumpin', Jumpin'   \n5  spotify:artist:5ND0mGcL9SKSjWIjPd0xIb                     Stacy's Mom   \n6  spotify:artist:26bcq2nyj5GB7uRr558iQg                Eye of the Tiger   \n7  spotify:artist:3cR4rhS2hBWqI7rJEBacvN       The Room Where It Happens   \n8  spotify:artist:6sLwRSXSUF5JTUnQaFenyj                  Right Hand Man   \n9  spotify:artist:3cR4rhS2hBWqI7rJEBacvN              Alexander Hamilton   \n\n                              album_uri  duration_ms_x  \\\n0  spotify:album:0z7pVBGOD7HCIB7S8eLkLI         198800   \n1  spotify:album:6QPkyl04rXwTGlGlcYaRoW         267266   \n2  spotify:album:283NWqNsCA9GwVHrJk59CG         271333   \n3  spotify:album:1UsmQ3bpJTyK6ygoOOjG1r         235213   \n4  spotify:album:283NWqNsCA9GwVHrJk59CG         230200   \n5  spotify:album:3Q7xpHmP8k3HryE0LQdIk0         193042   \n6  spotify:album:4PT9VulQaQP6XR1xBI2x1W         243773   \n7  spotify:album:1kCHru7uhxBUdzkm4gzRQc         318214   \n8  spotify:album:1kCHru7uhxBUdzkm4gzRQc         321696   \n9  spotify:album:1kCHru7uhxBUdzkm4gzRQc         236737   \n\n                           album_name                      id  ... liveness  \\\n0                         In The Zone  6I9VzXrHxO9rA9A5euc8Ak  ...   0.2420   \n1                           Justified  1AWQoqb9bSvzTjaLralEkT  ...   0.0521   \n2           The Writing's On The Wall  7H6ev70Weq6DdpZyyTmUXk  ...   0.1490   \n3         Speakerboxxx/The Love Below  2PpruBYCo4H7WOBJ7Q2EwM  ...   0.1740   \n4           The Writing's On The Wall  4pmc2AxSEq6g7hPVlJCPyP  ...   0.0537   \n5  I've Never Done Anything Like This  19Js5ypV6JKn4DMExHQbGc  ...   0.0907   \n6                    Eye Of The Tiger  2HHtWyy5CgaQbC7XSoOb0e  ...   0.0787   \n7                            Hamilton  2TK2KSrzXD6W01qjXVjNGh  ...   0.6640   \n8                            Hamilton  3nJYcY9yvKP8Oi2Ml8brXt  ...   0.2050   \n9                            Hamilton  4TTV7EcfroSLWzXRY6gLv6  ...   0.1180   \n\n  valence    tempo duration_ms_y time_signature  year  release_date  \\\n0   0.924  143.040        198800            4.0  2003    2003-11-13   \n1   0.818  100.972        267267            4.0  2002    2002-11-04   \n2   0.734  138.009        271333            4.0  1999    1999-07-27   \n3   0.965   79.526        235213            4.0  2003          2003   \n4   0.683   88.997        230200            4.0  1999    1999-07-27   \n5   0.813  119.989        193043            4.0  2011    2011-04-26   \n6   0.552  108.965        243773            4.0  1982          1982   \n7   0.511  173.552        318215            4.0  2015    2015-09-25   \n8   0.383  158.576        321697            4.0  2015    2015-09-25   \n9   0.552  131.995        236738            4.0  2015    2015-09-25   \n\n   predicted_rating_content  predicted_rating_collab  predicted_rating  \n0                  0.999599                 1.000000          0.999719  \n1                  0.999516                 0.968413          0.990185  \n2                  0.999516                 0.818136          0.945102  \n3                  0.999513                 0.725270          0.917240  \n4                  0.999492                 0.667910          0.900017  \n5                  0.999479                 0.612510          0.883389  \n6                  0.999464                 0.547461          0.863863  \n7                  0.999460                 0.521407          0.856044  \n8                  0.999446                 0.497800          0.848952  \n9                  0.999442                 0.468093          0.840037  \n\n[10 rows x 36 columns]",
      "text/html": "<div>\n<style scoped>\n    .dataframe tbody tr th:only-of-type {\n        vertical-align: middle;\n    }\n\n    .dataframe tbody tr th {\n        vertical-align: top;\n    }\n\n    .dataframe thead th {\n        text-align: right;\n    }\n</style>\n<table border=\"1\" class=\"dataframe\">\n  <thead>\n    <tr style=\"text-align: right;\">\n      <th></th>\n      <th>Unnamed: 0</th>\n      <th>pos</th>\n      <th>artist_name</th>\n      <th>track_uri</th>\n      <th>artist_uri</th>\n      <th>track_name</th>\n      <th>album_uri</th>\n      <th>duration_ms_x</th>\n      <th>album_name</th>\n      <th>id</th>\n      <th>...</th>\n      <th>liveness</th>\n      <th>valence</th>\n      <th>tempo</th>\n      <th>duration_ms_y</th>\n      <th>time_signature</th>\n      <th>year</th>\n      <th>release_date</th>\n      <th>predicted_rating_content</th>\n      <th>predicted_rating_collab</th>\n      <th>predicted_rating</th>\n    </tr>\n  </thead>\n  <tbody>\n    <tr>\n      <th>0</th>\n      <td>0</td>\n      <td>1</td>\n      <td>Britney Spears</td>\n      <td>spotify:track:6I9VzXrHxO9rA9A5euc8Ak</td>\n      <td>spotify:artist:26dSoYclwsYLMAKD3tpOr4</td>\n      <td>Toxic</td>\n      <td>spotify:album:0z7pVBGOD7HCIB7S8eLkLI</td>\n      <td>198800</td>\n      <td>In The Zone</td>\n      <td>6I9VzXrHxO9rA9A5euc8Ak</td>\n      <td>...</td>\n      <td>0.2420</td>\n      <td>0.924</td>\n      <td>143.040</td>\n      <td>198800</td>\n      <td>4.0</td>\n      <td>2003</td>\n      <td>2003-11-13</td>\n      <td>0.999599</td>\n      <td>1.000000</td>\n      <td>0.999719</td>\n    </tr>\n    <tr>\n      <th>1</th>\n      <td>0</td>\n      <td>3</td>\n      <td>Justin Timberlake</td>\n      <td>spotify:track:1AWQoqb9bSvzTjaLralEkT</td>\n      <td>spotify:artist:31TPClRtHm23RisEBtV3X7</td>\n      <td>Rock Your Body</td>\n      <td>spotify:album:6QPkyl04rXwTGlGlcYaRoW</td>\n      <td>267266</td>\n      <td>Justified</td>\n      <td>1AWQoqb9bSvzTjaLralEkT</td>\n      <td>...</td>\n      <td>0.0521</td>\n      <td>0.818</td>\n      <td>100.972</td>\n      <td>267267</td>\n      <td>4.0</td>\n      <td>2002</td>\n      <td>2002-11-04</td>\n      <td>0.999516</td>\n      <td>0.968413</td>\n      <td>0.990185</td>\n    </tr>\n    <tr>\n      <th>2</th>\n      <td>0</td>\n      <td>8</td>\n      <td>Destiny's Child</td>\n      <td>spotify:track:7H6ev70Weq6DdpZyyTmUXk</td>\n      <td>spotify:artist:1Y8cdNmUJH7yBTd9yOvr5i</td>\n      <td>Say My Name</td>\n      <td>spotify:album:283NWqNsCA9GwVHrJk59CG</td>\n      <td>271333</td>\n      <td>The Writing's On The Wall</td>\n      <td>7H6ev70Weq6DdpZyyTmUXk</td>\n      <td>...</td>\n      <td>0.1490</td>\n      <td>0.734</td>\n      <td>138.009</td>\n      <td>271333</td>\n      <td>4.0</td>\n      <td>1999</td>\n      <td>1999-07-27</td>\n      <td>0.999516</td>\n      <td>0.818136</td>\n      <td>0.945102</td>\n    </tr>\n    <tr>\n      <th>3</th>\n      <td>0</td>\n      <td>9</td>\n      <td>OutKast</td>\n      <td>spotify:track:2PpruBYCo4H7WOBJ7Q2EwM</td>\n      <td>spotify:artist:1G9G7WwrXka3Z1r7aIDjI7</td>\n      <td>Hey Ya! - Radio Mix / Club Mix</td>\n      <td>spotify:album:1UsmQ3bpJTyK6ygoOOjG1r</td>\n      <td>235213</td>\n      <td>Speakerboxxx/The Love Below</td>\n      <td>2PpruBYCo4H7WOBJ7Q2EwM</td>\n      <td>...</td>\n      <td>0.1740</td>\n      <td>0.965</td>\n      <td>79.526</td>\n      <td>235213</td>\n      <td>4.0</td>\n      <td>2003</td>\n      <td>2003</td>\n      <td>0.999513</td>\n      <td>0.725270</td>\n      <td>0.917240</td>\n    </tr>\n    <tr>\n      <th>4</th>\n      <td>0</td>\n      <td>19</td>\n      <td>Destiny's Child</td>\n      <td>spotify:track:4pmc2AxSEq6g7hPVlJCPyP</td>\n      <td>spotify:artist:1Y8cdNmUJH7yBTd9yOvr5i</td>\n      <td>Jumpin', Jumpin'</td>\n      <td>spotify:album:283NWqNsCA9GwVHrJk59CG</td>\n      <td>230200</td>\n      <td>The Writing's On The Wall</td>\n      <td>4pmc2AxSEq6g7hPVlJCPyP</td>\n      <td>...</td>\n      <td>0.0537</td>\n      <td>0.683</td>\n      <td>88.997</td>\n      <td>230200</td>\n      <td>4.0</td>\n      <td>1999</td>\n      <td>1999-07-27</td>\n      <td>0.999492</td>\n      <td>0.667910</td>\n      <td>0.900017</td>\n    </tr>\n    <tr>\n      <th>5</th>\n      <td>0</td>\n      <td>22</td>\n      <td>Bowling For Soup</td>\n      <td>spotify:track:19Js5ypV6JKn4DMExHQbGc</td>\n      <td>spotify:artist:5ND0mGcL9SKSjWIjPd0xIb</td>\n      <td>Stacy's Mom</td>\n      <td>spotify:album:3Q7xpHmP8k3HryE0LQdIk0</td>\n      <td>193042</td>\n      <td>I've Never Done Anything Like This</td>\n      <td>19Js5ypV6JKn4DMExHQbGc</td>\n      <td>...</td>\n      <td>0.0907</td>\n      <td>0.813</td>\n      <td>119.989</td>\n      <td>193043</td>\n      <td>4.0</td>\n      <td>2011</td>\n      <td>2011-04-26</td>\n      <td>0.999479</td>\n      <td>0.612510</td>\n      <td>0.883389</td>\n    </tr>\n    <tr>\n      <th>6</th>\n      <td>1</td>\n      <td>0</td>\n      <td>Survivor</td>\n      <td>spotify:track:2HHtWyy5CgaQbC7XSoOb0e</td>\n      <td>spotify:artist:26bcq2nyj5GB7uRr558iQg</td>\n      <td>Eye of the Tiger</td>\n      <td>spotify:album:4PT9VulQaQP6XR1xBI2x1W</td>\n      <td>243773</td>\n      <td>Eye Of The Tiger</td>\n      <td>2HHtWyy5CgaQbC7XSoOb0e</td>\n      <td>...</td>\n      <td>0.0787</td>\n      <td>0.552</td>\n      <td>108.965</td>\n      <td>243773</td>\n      <td>4.0</td>\n      <td>1982</td>\n      <td>1982</td>\n      <td>0.999464</td>\n      <td>0.547461</td>\n      <td>0.863863</td>\n    </tr>\n    <tr>\n      <th>7</th>\n      <td>1</td>\n      <td>9</td>\n      <td>Leslie Odom Jr.</td>\n      <td>spotify:track:2TK2KSrzXD6W01qjXVjNGh</td>\n      <td>spotify:artist:3cR4rhS2hBWqI7rJEBacvN</td>\n      <td>The Room Where It Happens</td>\n      <td>spotify:album:1kCHru7uhxBUdzkm4gzRQc</td>\n      <td>318214</td>\n      <td>Hamilton</td>\n      <td>2TK2KSrzXD6W01qjXVjNGh</td>\n      <td>...</td>\n      <td>0.6640</td>\n      <td>0.511</td>\n      <td>173.552</td>\n      <td>318215</td>\n      <td>4.0</td>\n      <td>2015</td>\n      <td>2015-09-25</td>\n      <td>0.999460</td>\n      <td>0.521407</td>\n      <td>0.856044</td>\n    </tr>\n    <tr>\n      <th>8</th>\n      <td>1</td>\n      <td>10</td>\n      <td>Christopher Jackson</td>\n      <td>spotify:track:3nJYcY9yvKP8Oi2Ml8brXt</td>\n      <td>spotify:artist:6sLwRSXSUF5JTUnQaFenyj</td>\n      <td>Right Hand Man</td>\n      <td>spotify:album:1kCHru7uhxBUdzkm4gzRQc</td>\n      <td>321696</td>\n      <td>Hamilton</td>\n      <td>3nJYcY9yvKP8Oi2Ml8brXt</td>\n      <td>...</td>\n      <td>0.2050</td>\n      <td>0.383</td>\n      <td>158.576</td>\n      <td>321697</td>\n      <td>4.0</td>\n      <td>2015</td>\n      <td>2015-09-25</td>\n      <td>0.999446</td>\n      <td>0.497800</td>\n      <td>0.848952</td>\n    </tr>\n    <tr>\n      <th>9</th>\n      <td>1</td>\n      <td>11</td>\n      <td>Leslie Odom Jr.</td>\n      <td>spotify:track:4TTV7EcfroSLWzXRY6gLv6</td>\n      <td>spotify:artist:3cR4rhS2hBWqI7rJEBacvN</td>\n      <td>Alexander Hamilton</td>\n      <td>spotify:album:1kCHru7uhxBUdzkm4gzRQc</td>\n      <td>236737</td>\n      <td>Hamilton</td>\n      <td>4TTV7EcfroSLWzXRY6gLv6</td>\n      <td>...</td>\n      <td>0.1180</td>\n      <td>0.552</td>\n      <td>131.995</td>\n      <td>236738</td>\n      <td>4.0</td>\n      <td>2015</td>\n      <td>2015-09-25</td>\n      <td>0.999442</td>\n      <td>0.468093</td>\n      <td>0.840037</td>\n    </tr>\n  </tbody>\n</table>\n<p>10 rows × 36 columns</p>\n</div>"
     },
     "execution_count": 9,
     "metadata": {},
     "output_type": "execute_result"
    }
   ],
   "source": [
    "recommended_tracks"
   ],
   "metadata": {
    "collapsed": false,
    "ExecuteTime": {
     "end_time": "2025-01-22T22:09:29.138798Z",
     "start_time": "2025-01-22T22:09:29.127679Z"
    }
   },
   "id": "865e1340c52642dc",
   "execution_count": 9
  }
 ],
 "metadata": {
  "kernelspec": {
   "display_name": "Python 3",
   "language": "python",
   "name": "python3"
  },
  "language_info": {
   "codemirror_mode": {
    "name": "ipython",
    "version": 2
   },
   "file_extension": ".py",
   "mimetype": "text/x-python",
   "name": "python",
   "nbconvert_exporter": "python",
   "pygments_lexer": "ipython2",
   "version": "2.7.6"
  }
 },
 "nbformat": 4,
 "nbformat_minor": 5
}
