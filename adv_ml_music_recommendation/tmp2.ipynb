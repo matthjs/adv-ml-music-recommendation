{
 "cells": [
  {
   "cell_type": "code",
   "execution_count": 2,
   "id": "initial_id",
   "metadata": {
    "collapsed": true,
    "ExecuteTime": {
     "end_time": "2025-01-22T18:45:28.522109Z",
     "start_time": "2025-01-22T18:45:26.717799Z"
    }
   },
   "outputs": [],
   "source": [
    "import pandas as pd\n",
    "from adv_ml_music_recommendation.recommenders.collaborativerecommender import CollaborativeRecommender\n",
    "\n",
    "df_playlist = pd.read_csv(\"../data/track_playlist_association.csv\")\n",
    "df_tracks = pd.read_csv(\"../data/matched_songs.csv\")"
   ]
  },
  {
   "cell_type": "code",
   "outputs": [
    {
     "name": "stdout",
     "output_type": "stream",
     "text": [
      "     Unnamed: 0  pos      artist_name                             track_uri  \\\n",
      "3             0    9          OutKast  spotify:track:2PpruBYCo4H7WOBJ7Q2EwM   \n",
      "637         105   70          Shakira  spotify:track:3ZFTkvIE7kyPt6Nu3PEa7V   \n",
      "978         164   41              TLC  spotify:track:1KGi9sZVMeszgZOWivFpxs   \n",
      "2             0    8  Destiny's Child  spotify:track:7H6ev70Weq6DdpZyyTmUXk   \n",
      "0             0    1   Britney Spears  spotify:track:6I9VzXrHxO9rA9A5euc8Ak   \n",
      "36            5    5         Flo Rida  spotify:track:0CAfXk7DXMnon4gLudAp7J   \n",
      "226          38    6            Ciara  spotify:track:7uKcScNXuO3MWw6LowBjW1   \n",
      "105          17    7      Mark Ronson  spotify:track:32OlwWuMpZ6b0aN2RZOeMS   \n",
      "493          89   66  Whitney Houston  spotify:track:2tUBqZG2AbRi7Q0BIrVrEj   \n",
      "492          89   60          Journey  spotify:track:4bHsxqR3GMrXTxEPLuK5ue   \n",
      "\n",
      "                                artist_uri  \\\n",
      "3    spotify:artist:1G9G7WwrXka3Z1r7aIDjI7   \n",
      "637  spotify:artist:0EmeFodog0BfCgMzAIvKQp   \n",
      "978  spotify:artist:0TImkz4nPqjegtVSMZnMRq   \n",
      "2    spotify:artist:1Y8cdNmUJH7yBTd9yOvr5i   \n",
      "0    spotify:artist:26dSoYclwsYLMAKD3tpOr4   \n",
      "36   spotify:artist:0jnsk9HBra6NMjO2oANoPY   \n",
      "226  spotify:artist:2NdeV5rLm47xAvogXrYhJX   \n",
      "105  spotify:artist:3hv9jJF3adDNsBSIQDqcjp   \n",
      "493  spotify:artist:6XpaIBNiVzIetEPCWDvAFP   \n",
      "492  spotify:artist:0rvjqX7ttXeg3mTy8Xscbt   \n",
      "\n",
      "                                        track_name  \\\n",
      "3                   Hey Ya! - Radio Mix / Club Mix   \n",
      "637                                 Hips Don't Lie   \n",
      "978                                      No Scrubs   \n",
      "2                                      Say My Name   \n",
      "0                                            Toxic   \n",
      "36   Low (feat T-Pain) - Feat T-Pain Album Version   \n",
      "226                                  One, Two Step   \n",
      "105                                    Uptown Funk   \n",
      "493     I Wanna Dance with Somebody (Who Loves Me)   \n",
      "492                           Don't Stop Believin'   \n",
      "\n",
      "                                album_uri  duration_ms_x  \\\n",
      "3    spotify:album:1UsmQ3bpJTyK6ygoOOjG1r         235213   \n",
      "637  spotify:album:5ppnlEoj4HdRRdRihnY3jU         218093   \n",
      "978  spotify:album:1CvjjpvqVMoyprsf74bpYW         214400   \n",
      "2    spotify:album:283NWqNsCA9GwVHrJk59CG         271333   \n",
      "0    spotify:album:0z7pVBGOD7HCIB7S8eLkLI         198800   \n",
      "36   spotify:album:5j1wrOAOm5KFd17pPiSvle         231400   \n",
      "226  spotify:album:71gUhKYZIWmmjqAHlY4Br3         203786   \n",
      "105  spotify:album:3vLaOYCNCzngDf8QdBg2V1         269666   \n",
      "493  spotify:album:5Vdzprr5cOqXQo44eHeV7t         291293   \n",
      "492  spotify:album:43wpzak9OmQfrjyksuGwp0         250986   \n",
      "\n",
      "                      album_name                      id  ... acousticness  \\\n",
      "3    Speakerboxxx/The Love Below  2PpruBYCo4H7WOBJ7Q2EwM  ...      0.10300   \n",
      "637         Oral Fixation Vol. 2  3ZFTkvIE7kyPt6Nu3PEa7V  ...      0.28400   \n",
      "978                      Fanmail  1KGi9sZVMeszgZOWivFpxs  ...      0.02510   \n",
      "2      The Writing's On The Wall  7H6ev70Weq6DdpZyyTmUXk  ...      0.27300   \n",
      "0                    In The Zone  6I9VzXrHxO9rA9A5euc8Ak  ...      0.02490   \n",
      "36                Mail On Sunday  0CAfXk7DXMnon4gLudAp7J  ...      0.09280   \n",
      "226                      Goodies  7uKcScNXuO3MWw6LowBjW1  ...      0.04200   \n",
      "105               Uptown Special  32OlwWuMpZ6b0aN2RZOeMS  ...      0.00801   \n",
      "493                      Whitney  2tUBqZG2AbRi7Q0BIrVrEj  ...      0.20700   \n",
      "492                       Escape  4bHsxqR3GMrXTxEPLuK5ue  ...      0.12700   \n",
      "\n",
      "    instrumentalness liveness valence    tempo  duration_ms_y  time_signature  \\\n",
      "3           0.000532   0.1740   0.965   79.526         235213             4.0   \n",
      "637         0.000000   0.4050   0.756  100.024         218093             4.0   \n",
      "978         0.000717   0.0685   0.590   92.909         214400             4.0   \n",
      "2           0.000000   0.1490   0.734  138.009         271333             4.0   \n",
      "0           0.025000   0.2420   0.924  143.040         198800             4.0   \n",
      "36          0.000000   0.1390   0.304  128.008         231400             4.0   \n",
      "226         0.001070   0.0379   0.842  113.046         203787             4.0   \n",
      "105         0.000081   0.0344   0.928  114.988         269667             4.0   \n",
      "493         0.000307   0.0888   0.867  118.818         291293             4.0   \n",
      "492         0.000000   0.4470   0.514  118.852         250987             4.0   \n",
      "\n",
      "     year  release_date  predicted_rating  \n",
      "3    2003          2003          1.000000  \n",
      "637  2005    2005-11-28          0.895376  \n",
      "978  1999    1999-02-23          0.840567  \n",
      "2    1999    1999-07-27          0.812483  \n",
      "0    2003    2003-11-13          0.768101  \n",
      "36   2008    2008-03-17          0.756042  \n",
      "226  2004    2004-09-27          0.741427  \n",
      "105  2015    2015-01-12          0.719440  \n",
      "493  1987    1987-06-02          0.656569  \n",
      "492  1981          1981          0.639173  \n",
      "\n",
      "[10 rows x 34 columns]\n",
      "                                track_uri  \\\n",
      "3    spotify:track:2PpruBYCo4H7WOBJ7Q2EwM   \n",
      "637  spotify:track:3ZFTkvIE7kyPt6Nu3PEa7V   \n",
      "978  spotify:track:1KGi9sZVMeszgZOWivFpxs   \n",
      "2    spotify:track:7H6ev70Weq6DdpZyyTmUXk   \n",
      "0    spotify:track:6I9VzXrHxO9rA9A5euc8Ak   \n",
      "36   spotify:track:0CAfXk7DXMnon4gLudAp7J   \n",
      "226  spotify:track:7uKcScNXuO3MWw6LowBjW1   \n",
      "105  spotify:track:32OlwWuMpZ6b0aN2RZOeMS   \n",
      "493  spotify:track:2tUBqZG2AbRi7Q0BIrVrEj   \n",
      "492  spotify:track:4bHsxqR3GMrXTxEPLuK5ue   \n",
      "\n",
      "                                        track_name      artist_name  \\\n",
      "3                   Hey Ya! - Radio Mix / Club Mix          OutKast   \n",
      "637                                 Hips Don't Lie          Shakira   \n",
      "978                                      No Scrubs              TLC   \n",
      "2                                      Say My Name  Destiny's Child   \n",
      "0                                            Toxic   Britney Spears   \n",
      "36   Low (feat T-Pain) - Feat T-Pain Album Version         Flo Rida   \n",
      "226                                  One, Two Step            Ciara   \n",
      "105                                    Uptown Funk      Mark Ronson   \n",
      "493     I Wanna Dance with Somebody (Who Loves Me)  Whitney Houston   \n",
      "492                           Don't Stop Believin'          Journey   \n",
      "\n",
      "     predicted_rating  \n",
      "3            1.000000  \n",
      "637          0.895376  \n",
      "978          0.840567  \n",
      "2            0.812483  \n",
      "0            0.768101  \n",
      "36           0.756042  \n",
      "226          0.741427  \n",
      "105          0.719440  \n",
      "493          0.656569  \n",
      "492          0.639173  \n"
     ]
    }
   ],
   "source": [
    "# Instantiate the CollaborativeRecommender with data\n",
    "recommender = CollaborativeRecommender(df_playlist=df_playlist, df_tracks=df_tracks, k=15)\n",
    "\n",
    "# Get the top 10 recommended tracks for a specific playlist\n",
    "playlist_id = 12345  # Replace with the playlist_id for which you want recommendations\n",
    "top_k = 10  # Number of tracks to recommend\n",
    "\n",
    "recommended_tracks = recommender.recommend_tracks(playlist_id=playlist_id, top_k=top_k)\n",
    "\n",
    "# Show the recommended tracks\n",
    "print(recommended_tracks)\n",
    "print(recommended_tracks[['track_uri', 'track_name', 'artist_name', 'predicted_rating']])"
   ],
   "metadata": {
    "collapsed": false,
    "ExecuteTime": {
     "end_time": "2025-01-22T18:45:48.295795Z",
     "start_time": "2025-01-22T18:45:43.805592Z"
    }
   },
   "id": "841f0ab3c54733a3",
   "execution_count": 3
  },
  {
   "cell_type": "code",
   "outputs": [
    {
     "data": {
      "text/plain": "(10, 34)"
     },
     "execution_count": 4,
     "metadata": {},
     "output_type": "execute_result"
    }
   ],
   "source": [
    "recommended_tracks.shape"
   ],
   "metadata": {
    "collapsed": false,
    "ExecuteTime": {
     "end_time": "2025-01-22T18:45:58.956382Z",
     "start_time": "2025-01-22T18:45:58.952017Z"
    }
   },
   "id": "2a7ca488ffc1efaa",
   "execution_count": 4
  },
  {
   "cell_type": "code",
   "outputs": [
    {
     "data": {
      "text/plain": "Index(['Unnamed: 0', 'pos', 'artist_name', 'track_uri', 'artist_uri',\n       'track_name', 'album_uri', 'duration_ms_x', 'album_name', 'id', 'name',\n       'album', 'album_id', 'artists', 'artist_ids', 'track_number',\n       'disc_number', 'explicit', 'danceability', 'energy', 'key', 'loudness',\n       'mode', 'speechiness', 'acousticness', 'instrumentalness', 'liveness',\n       'valence', 'tempo', 'duration_ms_y', 'time_signature', 'year',\n       'release_date'],\n      dtype='object')"
     },
     "execution_count": 5,
     "metadata": {},
     "output_type": "execute_result"
    }
   ],
   "source": [
    "df_tracks.columns"
   ],
   "metadata": {
    "collapsed": false,
    "ExecuteTime": {
     "end_time": "2025-01-22T18:48:33.491332Z",
     "start_time": "2025-01-22T18:48:33.487778Z"
    }
   },
   "id": "8dff78e9b6b8bb0b",
   "execution_count": 5
  },
  {
   "cell_type": "code",
   "outputs": [
    {
     "data": {
      "text/plain": "                              track_uri  playlist_id  Unnamed: 0  pos  \\\n0  spotify:track:0KMzyApR43L4JH9ZMHS1Km        12345          41  189   \n\n     artist_name                             artist_uri            track_name  \\\n0  Brooks & Dunn  spotify:artist:0XKOBt59crntr7HQXXO8Yz  Boot Scootin' Boogie   \n\n                              album_uri  duration_ms_x  \\\n0  spotify:album:2X3fLHcJN2Quyzaf4Hm3hz         198226   \n\n                    album_name  ... speechiness acousticness instrumentalness  \\\n0  The Essential Brooks & Dunn  ...      0.0435         0.22              0.0   \n\n  liveness valence    tempo  duration_ms_y  time_signature  year  release_date  \n0    0.304   0.862  130.446         198227             4.0  2012    2012-04-17  \n\n[1 rows x 34 columns]",
      "text/html": "<div>\n<style scoped>\n    .dataframe tbody tr th:only-of-type {\n        vertical-align: middle;\n    }\n\n    .dataframe tbody tr th {\n        vertical-align: top;\n    }\n\n    .dataframe thead th {\n        text-align: right;\n    }\n</style>\n<table border=\"1\" class=\"dataframe\">\n  <thead>\n    <tr style=\"text-align: right;\">\n      <th></th>\n      <th>track_uri</th>\n      <th>playlist_id</th>\n      <th>Unnamed: 0</th>\n      <th>pos</th>\n      <th>artist_name</th>\n      <th>artist_uri</th>\n      <th>track_name</th>\n      <th>album_uri</th>\n      <th>duration_ms_x</th>\n      <th>album_name</th>\n      <th>...</th>\n      <th>speechiness</th>\n      <th>acousticness</th>\n      <th>instrumentalness</th>\n      <th>liveness</th>\n      <th>valence</th>\n      <th>tempo</th>\n      <th>duration_ms_y</th>\n      <th>time_signature</th>\n      <th>year</th>\n      <th>release_date</th>\n    </tr>\n  </thead>\n  <tbody>\n    <tr>\n      <th>0</th>\n      <td>spotify:track:0KMzyApR43L4JH9ZMHS1Km</td>\n      <td>12345</td>\n      <td>41</td>\n      <td>189</td>\n      <td>Brooks &amp; Dunn</td>\n      <td>spotify:artist:0XKOBt59crntr7HQXXO8Yz</td>\n      <td>Boot Scootin' Boogie</td>\n      <td>spotify:album:2X3fLHcJN2Quyzaf4Hm3hz</td>\n      <td>198226</td>\n      <td>The Essential Brooks &amp; Dunn</td>\n      <td>...</td>\n      <td>0.0435</td>\n      <td>0.22</td>\n      <td>0.0</td>\n      <td>0.304</td>\n      <td>0.862</td>\n      <td>130.446</td>\n      <td>198227</td>\n      <td>4.0</td>\n      <td>2012</td>\n      <td>2012-04-17</td>\n    </tr>\n  </tbody>\n</table>\n<p>1 rows × 34 columns</p>\n</div>"
     },
     "execution_count": 6,
     "metadata": {},
     "output_type": "execute_result"
    }
   ],
   "source": [
    "from adv_ml_music_recommendation.util.data_functions import get_tracks_by_playlist\n",
    "\n",
    "get_tracks_by_playlist(df_playlist, df_tracks, 12345)"
   ],
   "metadata": {
    "collapsed": false,
    "ExecuteTime": {
     "end_time": "2025-01-22T18:49:37.589999Z",
     "start_time": "2025-01-22T18:49:37.498501Z"
    }
   },
   "id": "58688e9ef4f3948d",
   "execution_count": 6
  },
  {
   "cell_type": "code",
   "outputs": [
    {
     "data": {
      "text/plain": "     Unnamed: 0  pos      artist_name                             track_uri  \\\n3             0    9          OutKast  spotify:track:2PpruBYCo4H7WOBJ7Q2EwM   \n637         105   70          Shakira  spotify:track:3ZFTkvIE7kyPt6Nu3PEa7V   \n978         164   41              TLC  spotify:track:1KGi9sZVMeszgZOWivFpxs   \n2             0    8  Destiny's Child  spotify:track:7H6ev70Weq6DdpZyyTmUXk   \n0             0    1   Britney Spears  spotify:track:6I9VzXrHxO9rA9A5euc8Ak   \n36            5    5         Flo Rida  spotify:track:0CAfXk7DXMnon4gLudAp7J   \n226          38    6            Ciara  spotify:track:7uKcScNXuO3MWw6LowBjW1   \n105          17    7      Mark Ronson  spotify:track:32OlwWuMpZ6b0aN2RZOeMS   \n493          89   66  Whitney Houston  spotify:track:2tUBqZG2AbRi7Q0BIrVrEj   \n492          89   60          Journey  spotify:track:4bHsxqR3GMrXTxEPLuK5ue   \n\n                                artist_uri  \\\n3    spotify:artist:1G9G7WwrXka3Z1r7aIDjI7   \n637  spotify:artist:0EmeFodog0BfCgMzAIvKQp   \n978  spotify:artist:0TImkz4nPqjegtVSMZnMRq   \n2    spotify:artist:1Y8cdNmUJH7yBTd9yOvr5i   \n0    spotify:artist:26dSoYclwsYLMAKD3tpOr4   \n36   spotify:artist:0jnsk9HBra6NMjO2oANoPY   \n226  spotify:artist:2NdeV5rLm47xAvogXrYhJX   \n105  spotify:artist:3hv9jJF3adDNsBSIQDqcjp   \n493  spotify:artist:6XpaIBNiVzIetEPCWDvAFP   \n492  spotify:artist:0rvjqX7ttXeg3mTy8Xscbt   \n\n                                        track_name  \\\n3                   Hey Ya! - Radio Mix / Club Mix   \n637                                 Hips Don't Lie   \n978                                      No Scrubs   \n2                                      Say My Name   \n0                                            Toxic   \n36   Low (feat T-Pain) - Feat T-Pain Album Version   \n226                                  One, Two Step   \n105                                    Uptown Funk   \n493     I Wanna Dance with Somebody (Who Loves Me)   \n492                           Don't Stop Believin'   \n\n                                album_uri  duration_ms_x  \\\n3    spotify:album:1UsmQ3bpJTyK6ygoOOjG1r         235213   \n637  spotify:album:5ppnlEoj4HdRRdRihnY3jU         218093   \n978  spotify:album:1CvjjpvqVMoyprsf74bpYW         214400   \n2    spotify:album:283NWqNsCA9GwVHrJk59CG         271333   \n0    spotify:album:0z7pVBGOD7HCIB7S8eLkLI         198800   \n36   spotify:album:5j1wrOAOm5KFd17pPiSvle         231400   \n226  spotify:album:71gUhKYZIWmmjqAHlY4Br3         203786   \n105  spotify:album:3vLaOYCNCzngDf8QdBg2V1         269666   \n493  spotify:album:5Vdzprr5cOqXQo44eHeV7t         291293   \n492  spotify:album:43wpzak9OmQfrjyksuGwp0         250986   \n\n                      album_name                      id  ... acousticness  \\\n3    Speakerboxxx/The Love Below  2PpruBYCo4H7WOBJ7Q2EwM  ...      0.10300   \n637         Oral Fixation Vol. 2  3ZFTkvIE7kyPt6Nu3PEa7V  ...      0.28400   \n978                      Fanmail  1KGi9sZVMeszgZOWivFpxs  ...      0.02510   \n2      The Writing's On The Wall  7H6ev70Weq6DdpZyyTmUXk  ...      0.27300   \n0                    In The Zone  6I9VzXrHxO9rA9A5euc8Ak  ...      0.02490   \n36                Mail On Sunday  0CAfXk7DXMnon4gLudAp7J  ...      0.09280   \n226                      Goodies  7uKcScNXuO3MWw6LowBjW1  ...      0.04200   \n105               Uptown Special  32OlwWuMpZ6b0aN2RZOeMS  ...      0.00801   \n493                      Whitney  2tUBqZG2AbRi7Q0BIrVrEj  ...      0.20700   \n492                       Escape  4bHsxqR3GMrXTxEPLuK5ue  ...      0.12700   \n\n    instrumentalness liveness valence    tempo  duration_ms_y  time_signature  \\\n3           0.000532   0.1740   0.965   79.526         235213             4.0   \n637         0.000000   0.4050   0.756  100.024         218093             4.0   \n978         0.000717   0.0685   0.590   92.909         214400             4.0   \n2           0.000000   0.1490   0.734  138.009         271333             4.0   \n0           0.025000   0.2420   0.924  143.040         198800             4.0   \n36          0.000000   0.1390   0.304  128.008         231400             4.0   \n226         0.001070   0.0379   0.842  113.046         203787             4.0   \n105         0.000081   0.0344   0.928  114.988         269667             4.0   \n493         0.000307   0.0888   0.867  118.818         291293             4.0   \n492         0.000000   0.4470   0.514  118.852         250987             4.0   \n\n     year  release_date  predicted_rating  \n3    2003          2003          1.000000  \n637  2005    2005-11-28          0.895376  \n978  1999    1999-02-23          0.840567  \n2    1999    1999-07-27          0.812483  \n0    2003    2003-11-13          0.768101  \n36   2008    2008-03-17          0.756042  \n226  2004    2004-09-27          0.741427  \n105  2015    2015-01-12          0.719440  \n493  1987    1987-06-02          0.656569  \n492  1981          1981          0.639173  \n\n[10 rows x 34 columns]",
      "text/html": "<div>\n<style scoped>\n    .dataframe tbody tr th:only-of-type {\n        vertical-align: middle;\n    }\n\n    .dataframe tbody tr th {\n        vertical-align: top;\n    }\n\n    .dataframe thead th {\n        text-align: right;\n    }\n</style>\n<table border=\"1\" class=\"dataframe\">\n  <thead>\n    <tr style=\"text-align: right;\">\n      <th></th>\n      <th>Unnamed: 0</th>\n      <th>pos</th>\n      <th>artist_name</th>\n      <th>track_uri</th>\n      <th>artist_uri</th>\n      <th>track_name</th>\n      <th>album_uri</th>\n      <th>duration_ms_x</th>\n      <th>album_name</th>\n      <th>id</th>\n      <th>...</th>\n      <th>acousticness</th>\n      <th>instrumentalness</th>\n      <th>liveness</th>\n      <th>valence</th>\n      <th>tempo</th>\n      <th>duration_ms_y</th>\n      <th>time_signature</th>\n      <th>year</th>\n      <th>release_date</th>\n      <th>predicted_rating</th>\n    </tr>\n  </thead>\n  <tbody>\n    <tr>\n      <th>3</th>\n      <td>0</td>\n      <td>9</td>\n      <td>OutKast</td>\n      <td>spotify:track:2PpruBYCo4H7WOBJ7Q2EwM</td>\n      <td>spotify:artist:1G9G7WwrXka3Z1r7aIDjI7</td>\n      <td>Hey Ya! - Radio Mix / Club Mix</td>\n      <td>spotify:album:1UsmQ3bpJTyK6ygoOOjG1r</td>\n      <td>235213</td>\n      <td>Speakerboxxx/The Love Below</td>\n      <td>2PpruBYCo4H7WOBJ7Q2EwM</td>\n      <td>...</td>\n      <td>0.10300</td>\n      <td>0.000532</td>\n      <td>0.1740</td>\n      <td>0.965</td>\n      <td>79.526</td>\n      <td>235213</td>\n      <td>4.0</td>\n      <td>2003</td>\n      <td>2003</td>\n      <td>1.000000</td>\n    </tr>\n    <tr>\n      <th>637</th>\n      <td>105</td>\n      <td>70</td>\n      <td>Shakira</td>\n      <td>spotify:track:3ZFTkvIE7kyPt6Nu3PEa7V</td>\n      <td>spotify:artist:0EmeFodog0BfCgMzAIvKQp</td>\n      <td>Hips Don't Lie</td>\n      <td>spotify:album:5ppnlEoj4HdRRdRihnY3jU</td>\n      <td>218093</td>\n      <td>Oral Fixation Vol. 2</td>\n      <td>3ZFTkvIE7kyPt6Nu3PEa7V</td>\n      <td>...</td>\n      <td>0.28400</td>\n      <td>0.000000</td>\n      <td>0.4050</td>\n      <td>0.756</td>\n      <td>100.024</td>\n      <td>218093</td>\n      <td>4.0</td>\n      <td>2005</td>\n      <td>2005-11-28</td>\n      <td>0.895376</td>\n    </tr>\n    <tr>\n      <th>978</th>\n      <td>164</td>\n      <td>41</td>\n      <td>TLC</td>\n      <td>spotify:track:1KGi9sZVMeszgZOWivFpxs</td>\n      <td>spotify:artist:0TImkz4nPqjegtVSMZnMRq</td>\n      <td>No Scrubs</td>\n      <td>spotify:album:1CvjjpvqVMoyprsf74bpYW</td>\n      <td>214400</td>\n      <td>Fanmail</td>\n      <td>1KGi9sZVMeszgZOWivFpxs</td>\n      <td>...</td>\n      <td>0.02510</td>\n      <td>0.000717</td>\n      <td>0.0685</td>\n      <td>0.590</td>\n      <td>92.909</td>\n      <td>214400</td>\n      <td>4.0</td>\n      <td>1999</td>\n      <td>1999-02-23</td>\n      <td>0.840567</td>\n    </tr>\n    <tr>\n      <th>2</th>\n      <td>0</td>\n      <td>8</td>\n      <td>Destiny's Child</td>\n      <td>spotify:track:7H6ev70Weq6DdpZyyTmUXk</td>\n      <td>spotify:artist:1Y8cdNmUJH7yBTd9yOvr5i</td>\n      <td>Say My Name</td>\n      <td>spotify:album:283NWqNsCA9GwVHrJk59CG</td>\n      <td>271333</td>\n      <td>The Writing's On The Wall</td>\n      <td>7H6ev70Weq6DdpZyyTmUXk</td>\n      <td>...</td>\n      <td>0.27300</td>\n      <td>0.000000</td>\n      <td>0.1490</td>\n      <td>0.734</td>\n      <td>138.009</td>\n      <td>271333</td>\n      <td>4.0</td>\n      <td>1999</td>\n      <td>1999-07-27</td>\n      <td>0.812483</td>\n    </tr>\n    <tr>\n      <th>0</th>\n      <td>0</td>\n      <td>1</td>\n      <td>Britney Spears</td>\n      <td>spotify:track:6I9VzXrHxO9rA9A5euc8Ak</td>\n      <td>spotify:artist:26dSoYclwsYLMAKD3tpOr4</td>\n      <td>Toxic</td>\n      <td>spotify:album:0z7pVBGOD7HCIB7S8eLkLI</td>\n      <td>198800</td>\n      <td>In The Zone</td>\n      <td>6I9VzXrHxO9rA9A5euc8Ak</td>\n      <td>...</td>\n      <td>0.02490</td>\n      <td>0.025000</td>\n      <td>0.2420</td>\n      <td>0.924</td>\n      <td>143.040</td>\n      <td>198800</td>\n      <td>4.0</td>\n      <td>2003</td>\n      <td>2003-11-13</td>\n      <td>0.768101</td>\n    </tr>\n    <tr>\n      <th>36</th>\n      <td>5</td>\n      <td>5</td>\n      <td>Flo Rida</td>\n      <td>spotify:track:0CAfXk7DXMnon4gLudAp7J</td>\n      <td>spotify:artist:0jnsk9HBra6NMjO2oANoPY</td>\n      <td>Low (feat T-Pain) - Feat T-Pain Album Version</td>\n      <td>spotify:album:5j1wrOAOm5KFd17pPiSvle</td>\n      <td>231400</td>\n      <td>Mail On Sunday</td>\n      <td>0CAfXk7DXMnon4gLudAp7J</td>\n      <td>...</td>\n      <td>0.09280</td>\n      <td>0.000000</td>\n      <td>0.1390</td>\n      <td>0.304</td>\n      <td>128.008</td>\n      <td>231400</td>\n      <td>4.0</td>\n      <td>2008</td>\n      <td>2008-03-17</td>\n      <td>0.756042</td>\n    </tr>\n    <tr>\n      <th>226</th>\n      <td>38</td>\n      <td>6</td>\n      <td>Ciara</td>\n      <td>spotify:track:7uKcScNXuO3MWw6LowBjW1</td>\n      <td>spotify:artist:2NdeV5rLm47xAvogXrYhJX</td>\n      <td>One, Two Step</td>\n      <td>spotify:album:71gUhKYZIWmmjqAHlY4Br3</td>\n      <td>203786</td>\n      <td>Goodies</td>\n      <td>7uKcScNXuO3MWw6LowBjW1</td>\n      <td>...</td>\n      <td>0.04200</td>\n      <td>0.001070</td>\n      <td>0.0379</td>\n      <td>0.842</td>\n      <td>113.046</td>\n      <td>203787</td>\n      <td>4.0</td>\n      <td>2004</td>\n      <td>2004-09-27</td>\n      <td>0.741427</td>\n    </tr>\n    <tr>\n      <th>105</th>\n      <td>17</td>\n      <td>7</td>\n      <td>Mark Ronson</td>\n      <td>spotify:track:32OlwWuMpZ6b0aN2RZOeMS</td>\n      <td>spotify:artist:3hv9jJF3adDNsBSIQDqcjp</td>\n      <td>Uptown Funk</td>\n      <td>spotify:album:3vLaOYCNCzngDf8QdBg2V1</td>\n      <td>269666</td>\n      <td>Uptown Special</td>\n      <td>32OlwWuMpZ6b0aN2RZOeMS</td>\n      <td>...</td>\n      <td>0.00801</td>\n      <td>0.000081</td>\n      <td>0.0344</td>\n      <td>0.928</td>\n      <td>114.988</td>\n      <td>269667</td>\n      <td>4.0</td>\n      <td>2015</td>\n      <td>2015-01-12</td>\n      <td>0.719440</td>\n    </tr>\n    <tr>\n      <th>493</th>\n      <td>89</td>\n      <td>66</td>\n      <td>Whitney Houston</td>\n      <td>spotify:track:2tUBqZG2AbRi7Q0BIrVrEj</td>\n      <td>spotify:artist:6XpaIBNiVzIetEPCWDvAFP</td>\n      <td>I Wanna Dance with Somebody (Who Loves Me)</td>\n      <td>spotify:album:5Vdzprr5cOqXQo44eHeV7t</td>\n      <td>291293</td>\n      <td>Whitney</td>\n      <td>2tUBqZG2AbRi7Q0BIrVrEj</td>\n      <td>...</td>\n      <td>0.20700</td>\n      <td>0.000307</td>\n      <td>0.0888</td>\n      <td>0.867</td>\n      <td>118.818</td>\n      <td>291293</td>\n      <td>4.0</td>\n      <td>1987</td>\n      <td>1987-06-02</td>\n      <td>0.656569</td>\n    </tr>\n    <tr>\n      <th>492</th>\n      <td>89</td>\n      <td>60</td>\n      <td>Journey</td>\n      <td>spotify:track:4bHsxqR3GMrXTxEPLuK5ue</td>\n      <td>spotify:artist:0rvjqX7ttXeg3mTy8Xscbt</td>\n      <td>Don't Stop Believin'</td>\n      <td>spotify:album:43wpzak9OmQfrjyksuGwp0</td>\n      <td>250986</td>\n      <td>Escape</td>\n      <td>4bHsxqR3GMrXTxEPLuK5ue</td>\n      <td>...</td>\n      <td>0.12700</td>\n      <td>0.000000</td>\n      <td>0.4470</td>\n      <td>0.514</td>\n      <td>118.852</td>\n      <td>250987</td>\n      <td>4.0</td>\n      <td>1981</td>\n      <td>1981</td>\n      <td>0.639173</td>\n    </tr>\n  </tbody>\n</table>\n<p>10 rows × 34 columns</p>\n</div>"
     },
     "execution_count": 7,
     "metadata": {},
     "output_type": "execute_result"
    }
   ],
   "source": [
    "recommended_tracks"
   ],
   "metadata": {
    "collapsed": false,
    "ExecuteTime": {
     "end_time": "2025-01-22T18:49:51.894439Z",
     "start_time": "2025-01-22T18:49:51.884423Z"
    }
   },
   "id": "865e1340c52642dc",
   "execution_count": 7
  }
 ],
 "metadata": {
  "kernelspec": {
   "display_name": "Python 3",
   "language": "python",
   "name": "python3"
  },
  "language_info": {
   "codemirror_mode": {
    "name": "ipython",
    "version": 2
   },
   "file_extension": ".py",
   "mimetype": "text/x-python",
   "name": "python",
   "nbconvert_exporter": "python",
   "pygments_lexer": "ipython2",
   "version": "2.7.6"
  }
 },
 "nbformat": 4,
 "nbformat_minor": 5
}
