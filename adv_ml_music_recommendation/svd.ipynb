{
 "cells": [
  {
   "cell_type": "code",
   "execution_count": 11,
   "id": "initial_id",
   "metadata": {
    "collapsed": true,
    "ExecuteTime": {
     "end_time": "2025-01-21T14:04:43.477369Z",
     "start_time": "2025-01-21T14:04:43.473911Z"
    }
   },
   "outputs": [
    {
     "name": "stdout",
     "output_type": "stream",
     "text": [
      "(3, 2) (2, 4) (2, 2)\n"
     ]
    }
   ],
   "source": [
    "import numpy as np\n",
    "from scipy.sparse.linalg import svds\n",
    "\n",
    "# Define the matrix R\n",
    "R = np.array([[1, 0, 1, 0],\n",
    "              [0, 1, 0, 1],\n",
    "              [1, 1, 0, 0]], dtype=np.float32)\n",
    "\n",
    "# Performs matrix factorisation of the original user item matrix\n",
    "u, s, vt = svds(R, k=2)  # k is number of factors\n",
    "s = np.diag(s)\n",
    "print(u.shape, vt.shape, s.shape)\n"
   ]
  },
  {
   "cell_type": "code",
   "outputs": [
    {
     "name": "stdout",
     "output_type": "stream",
     "text": [
      "[[ 1.1035535   0.10355331  0.75000006 -0.25000006]\n",
      " [ 0.10355344  1.1035535  -0.24999996  0.75      ]\n",
      " [ 0.8535535   0.85355335  0.3535534   0.35355332]]\n"
     ]
    }
   ],
   "source": [
    "# Reconstruct R\n",
    "R_reconstructed = np.dot(u, np.dot(s, vt))\n",
    "print(R_reconstructed)"
   ],
   "metadata": {
    "collapsed": false,
    "ExecuteTime": {
     "end_time": "2025-01-21T14:04:50.160514Z",
     "start_time": "2025-01-21T14:04:50.157718Z"
    }
   },
   "id": "703677f7253243c5",
   "execution_count": 13
  },
  {
   "cell_type": "code",
   "outputs": [
    {
     "name": "stdout",
     "output_type": "stream",
     "text": [
      "[[1.   0.26 0.74 0.  ]\n",
      " [0.26 1.   0.   0.74]\n",
      " [0.82 0.82 0.45 0.45]]\n"
     ]
    }
   ],
   "source": [
    "def normalize_matrix(X):\n",
    "    # Find the minimum and maximum values in the matrix\n",
    "    X_min = X.min()\n",
    "    X_max = X.max()\n",
    "    \n",
    "    # Apply the normalization formula\n",
    "    X_normalized = (X - X_min) / (X_max - X_min)\n",
    "    \n",
    "    return X_normalized\n",
    "\n",
    "np.set_printoptions(precision=2, suppress=True)\n",
    "print(normalize_matrix(R_reconstructed))"
   ],
   "metadata": {
    "collapsed": false,
    "ExecuteTime": {
     "end_time": "2025-01-21T14:07:50.757087Z",
     "start_time": "2025-01-21T14:07:50.754147Z"
    }
   },
   "id": "28f2eeda784b0abd",
   "execution_count": 22
  }
 ],
 "metadata": {
  "kernelspec": {
   "display_name": "Python 3",
   "language": "python",
   "name": "python3"
  },
  "language_info": {
   "codemirror_mode": {
    "name": "ipython",
    "version": 2
   },
   "file_extension": ".py",
   "mimetype": "text/x-python",
   "name": "python",
   "nbconvert_exporter": "python",
   "pygments_lexer": "ipython2",
   "version": "2.7.6"
  }
 },
 "nbformat": 4,
 "nbformat_minor": 5
}
